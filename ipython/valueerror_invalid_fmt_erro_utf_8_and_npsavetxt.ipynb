{
 "cells": [
  {
   "cell_type": "code",
   "execution_count": 24,
   "metadata": {
    "collapsed": true
   },
   "outputs": [],
   "source": [
    "import numpy as np\n",
    "\n",
    "#!/usr/bin/env python\n",
    "# -*- coding: utf-8 -*-\n",
    "\n",
    "\n",
    "%matplotlib inline\n",
    "import matplotlib.pyplot as plt"
   ]
  },
  {
   "cell_type": "code",
   "execution_count": 27,
   "metadata": {
    "collapsed": false
   },
   "outputs": [
    {
     "name": "stdout",
     "output_type": "stream",
     "text": [
      "[[ 0.2  0.2  0.2  0.2  0.2  0.2  0.2  0.2  0.2  0.2]\n",
      " [ 0.2  0.2  0.2  0.2  0.2  0.2  0.2  0.2  0.2  0.2]\n",
      " [ 0.2  0.2  0.2  0.2  0.2  0.2  0.2  0.2  0.2  0.2]\n",
      " [ 0.2  0.2  0.2  0.2  0.2  0.2  0.2  0.2  0.2  0.2]\n",
      " [ 0.2  0.2  0.2  0.2  0.2  0.2  0.2  0.2  0.2  0.2]\n",
      " [ 0.2  0.2  0.2  0.2  0.2  0.2  0.2  0.2  0.2  0.2]\n",
      " [ 0.2  0.2  0.2  0.2  0.2  0.2  0.2  0.2  0.2  0.2]\n",
      " [ 0.2  0.2  0.2  0.2  0.2  0.2  0.2  0.2  0.2  0.2]\n",
      " [ 0.2  0.2  0.2  0.2  0.2  0.2  0.2  0.2  0.2  0.2]\n",
      " [ 0.2  0.2  0.2  0.2  0.2  0.2  0.2  0.2  0.2  0.2]]\n"
     ]
    },
    {
     "data": {
      "image/png": "[encoded data removed]",
      "text/plain": [
       "<matplotlib.figure.Figure at 0xb07bf70c>"
      ]
     },
     "metadata": {},
     "output_type": "display_data"
    }
   ],
   "source": [
    "V = np.array([[0.2]*10]*10)\n",
    "print V\n",
    "\n",
    "x = np.linspace(1,100,100)\n",
    "\n",
    "y = x**(-2)\n",
    "\n",
    "#matplotlib.rc('font', **{'sans-serif' : 'Arial', 'family' : 'sans-serif'})\n",
    "\n",
    "plt.plot(x,y)\n",
    "plt.xlabel(u'Çàáçü')\n",
    "plt.show()\n"
   ]
  },
  {
   "cell_type": "code",
   "execution_count": 28,
   "metadata": {
    "collapsed": false
   },
   "outputs": [],
   "source": [
    "np.savetxt('V_error.dat', V, delimiter=' ', fmt='%.4f')"
   ]
  },
  {
   "cell_type": "code",
   "execution_count": null,
   "metadata": {
    "collapsed": true
   },
   "outputs": [],
   "source": []
  }
 ],
 "metadata": {
  "kernelspec": {
   "display_name": "Python 2",
   "language": "python",
   "name": "python2"
  },
  "language_info": {
   "codemirror_mode": {
    "name": "ipython",
    "version": 2
   },
   "file_extension": ".py",
   "mimetype": "text/x-python",
   "name": "python",
   "nbconvert_exporter": "python",
   "pygments_lexer": "ipython2",
   "version": "2.7.10"
  }
 },
 "nbformat": 4,
 "nbformat_minor": 0
}
