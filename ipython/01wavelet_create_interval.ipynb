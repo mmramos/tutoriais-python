{
 "metadata": {
  "name": "",
  "signature": "sha256:acea3fe2010ec5ca2135096a23d1114e323d13dace03f46fe34ebca844271a2c"
 },
 "nbformat": 3,
 "nbformat_minor": 0,
 "worksheets": [
  {
   "cells": [
    {
     "cell_type": "code",
     "collapsed": false,
     "input": [
      "#--------------------------Importando os Pacotes-------------------------------#\n",
      "\n",
      "%matplotlib inline\n",
      "from pylab import *\n",
      "import scipy as sp\n",
      "import numpy as np\n",
      "import matplotlib.pyplot as plt\n",
      "import matplotlib.patches as mpatches\n",
      "from matplotlib.gridspec import GridSpec"
     ],
     "language": "python",
     "metadata": {},
     "outputs": [],
     "prompt_number": 1
    },
    {
     "cell_type": "code",
     "collapsed": false,
     "input": [
      "p1 = 12\n",
      "z  = []\n",
      "e =  0.1524\n",
      "\n",
      "for i in range (p1):\n",
      "    z0 = 2999.8904 + e*i\n",
      "    z.append(z0)\n",
      "    \n",
      "print z"
     ],
     "language": "python",
     "metadata": {},
     "outputs": [
      {
       "output_type": "stream",
       "stream": "stdout",
       "text": [
        "[2999.8904, 3000.0428, 3000.1952, 3000.3476, 3000.5, 3000.6524000000004, 3000.8048000000003, 3000.9572000000003, 3001.1096000000002, 3001.262, 3001.4144, 3001.5668]\n"
       ]
      }
     ],
     "prompt_number": 2
    },
    {
     "cell_type": "code",
     "collapsed": false,
     "input": [
      "elements = 2\n",
      "ee = e/elements\n",
      "\n",
      "print ee"
     ],
     "language": "python",
     "metadata": {},
     "outputs": [
      {
       "output_type": "stream",
       "stream": "stdout",
       "text": [
        "0.0762\n"
       ]
      }
     ],
     "prompt_number": 18
    },
    {
     "cell_type": "code",
     "collapsed": false,
     "input": [
      "#-----------------------------------------Estende Intervalos-------------------------------------\n",
      "zz = []\n",
      "for i in range (p1):\n",
      "    for j in range (elements):\n",
      "        zz0 = z[i]+ee*j\n",
      "        zz.append(zz0)\n",
      "print zz"
     ],
     "language": "python",
     "metadata": {},
     "outputs": [
      {
       "output_type": "stream",
       "stream": "stdout",
       "text": [
        "[2999.8904, 2999.9666, 3000.0428, 3000.119, 3000.1952, 3000.2714, 3000.3476, 3000.4238, 3000.5, 3000.5762, 3000.6524000000004, 3000.7286000000004, 3000.8048000000003, 3000.8810000000003, 3000.9572000000003, 3001.0334000000003, 3001.1096000000002, 3001.1858, 3001.262, 3001.3382, 3001.4144, 3001.4906, 3001.5668, 3001.643]\n"
       ]
      }
     ],
     "prompt_number": 19
    },
    {
     "cell_type": "code",
     "collapsed": false,
     "input": [],
     "language": "python",
     "metadata": {},
     "outputs": []
    }
   ],
   "metadata": {}
  }
 ]
}