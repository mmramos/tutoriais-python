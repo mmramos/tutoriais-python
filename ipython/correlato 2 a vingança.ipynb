{
 "metadata": {
  "name": "",
  "signature": "sha256:8baf674030d711886f4bc138da6136c18c3e97ab124749446d63c16439fef13f"
 },
 "nbformat": 3,
 "nbformat_minor": 0,
 "worksheets": [
  {
   "cells": [
    {
     "cell_type": "code",
     "collapsed": false,
     "input": [
      "%matplotlib inline\n",
      "import numpy as np\n",
      "import matplotlib.pyplot as plt\n",
      "from matplotlib.pylab import *"
     ],
     "language": "python",
     "metadata": {},
     "outputs": [],
     "prompt_number": 3
    },
    {
     "cell_type": "code",
     "collapsed": false,
     "input": [
      "h = 14\n",
      "\n",
      "ha1 = int((h*30)/100)\n",
      "ha2 = int((h*60)/100)\n",
      "ha3 = int(h -ha1 -ha2)\n",
      "\n",
      "ma1 = [1]*ha1\n",
      "ma2 = [2]*ha2\n",
      "ma3 = [3]*ha3\n",
      "\n",
      "a = np.array(ma1+ma2+ma3)\n",
      "print 'a =',a\n",
      "\n",
      "#______________________________________________________________\n",
      "\n",
      "hb1 = int((h*20)/100)\n",
      "hb2 = int((h*30)/100)\n",
      "hb3 = int(h -hb1 -hb2)\n",
      "\n",
      "mb1 = [1]*hb1\n",
      "mb2 = [2]*hb2\n",
      "mb3 = [3]*hb3\n",
      "\n",
      "b = np.array(mb1+mb2+mb3)\n",
      "print 'b =',b"
     ],
     "language": "python",
     "metadata": {},
     "outputs": [
      {
       "output_type": "stream",
       "stream": "stdout",
       "text": [
        "a = [1 1 1 1 2 2 2 2 2 2 2 2 3 3]\n",
        "b = [1 1 2 2 2 2 3 3 3 3 3 3 3 3]\n"
       ]
      }
     ],
     "prompt_number": 4
    },
    {
     "cell_type": "code",
     "collapsed": false,
     "input": [
      "l = 14\n",
      "c = len(a)\n",
      "\n",
      "shape = (c,l)\n",
      "s = np.zeros(shape)\n",
      "s90 = np.zeros(shape)\n",
      "s91 = np.zeros(shape)\n",
      "\n",
      "s[:,0]   = a\n",
      "s90[:,0]   = a\n",
      "s91[:,0]   = a\n",
      "s[:,l-1] = b\n",
      "s90[:,l-1] = b\n",
      "s91[:,l-1] = b\n",
      "\n",
      "\n",
      "\n",
      "\n",
      "top = [a[0]]*l\n",
      "bas = [a[len(a)-1]]*l\n",
      "\n",
      "s[0,:] = top\n",
      "s91[0,:] = top\n",
      "s[c-1,:] = bas\n",
      "s91[c-1,:] = bas\n",
      "\n",
      "print s\n",
      "#print s[0,:] #primeira linha\n",
      "#print s[:,0] #primeira coluna"
     ],
     "language": "python",
     "metadata": {},
     "outputs": [
      {
       "output_type": "stream",
       "stream": "stdout",
       "text": [
        "[[ 1.  1.  1.  1.  1.  1.  1.  1.  1.  1.  1.  1.  1.  1.]\n",
        " [ 1.  0.  0.  0.  0.  0.  0.  0.  0.  0.  0.  0.  0.  1.]\n",
        " [ 1.  0.  0.  0.  0.  0.  0.  0.  0.  0.  0.  0.  0.  2.]\n",
        " [ 1.  0.  0.  0.  0.  0.  0.  0.  0.  0.  0.  0.  0.  2.]\n",
        " [ 2.  0.  0.  0.  0.  0.  0.  0.  0.  0.  0.  0.  0.  2.]\n",
        " [ 2.  0.  0.  0.  0.  0.  0.  0.  0.  0.  0.  0.  0.  2.]\n",
        " [ 2.  0.  0.  0.  0.  0.  0.  0.  0.  0.  0.  0.  0.  3.]\n",
        " [ 2.  0.  0.  0.  0.  0.  0.  0.  0.  0.  0.  0.  0.  3.]\n",
        " [ 2.  0.  0.  0.  0.  0.  0.  0.  0.  0.  0.  0.  0.  3.]\n",
        " [ 2.  0.  0.  0.  0.  0.  0.  0.  0.  0.  0.  0.  0.  3.]\n",
        " [ 2.  0.  0.  0.  0.  0.  0.  0.  0.  0.  0.  0.  0.  3.]\n",
        " [ 2.  0.  0.  0.  0.  0.  0.  0.  0.  0.  0.  0.  0.  3.]\n",
        " [ 3.  0.  0.  0.  0.  0.  0.  0.  0.  0.  0.  0.  0.  3.]\n",
        " [ 3.  3.  3.  3.  3.  3.  3.  3.  3.  3.  3.  3.  3.  3.]]\n"
       ]
      }
     ],
     "prompt_number": 27
    },
    {
     "cell_type": "code",
     "collapsed": false,
     "input": [
      "s2 = s\n",
      "s3 = s\n",
      "\n",
      "t =600\n",
      "\n",
      "for k in range (t):\n",
      "    for j in range (1,l-1):\n",
      "        for i in range(1,c-1):\n",
      "            s3[i,j] = (s2[i-1,j]+s2[i+1,j]+s2[i,j-1]+s2[i,j+1])*0.25\n",
      "    s3 = s2\n",
      "    \n",
      "print s3"
     ],
     "language": "python",
     "metadata": {},
     "outputs": [
      {
       "output_type": "stream",
       "stream": "stdout",
       "text": [
        "[[ 1.          1.          1.          1.          1.          1.          1.\n",
        "   1.          1.          1.          1.          1.          1.          1.        ]\n",
        " [ 1.          1.06754685  1.11243265  1.13885303  1.15504288  1.16673072\n",
        "   1.17714953  1.18809121  1.20067597  1.21566257  1.2328451   1.24670527\n",
        "   1.2243663   1.        ]\n",
        " [ 1.          1.15775473  1.24333073  1.28793658  1.31458778  1.33473048\n",
        "   1.35377619  1.37453935  1.39895008  1.42912922  1.46901256  1.52960968\n",
        "   1.65075991  2.        ]\n",
        " [ 1.          1.32014135  1.41519896  1.45497478  1.48064119  1.50382722\n",
        "   1.52868539  1.5573399   1.59145581  1.63289165  1.68446624  1.75196099\n",
        "   1.84906367  2.        ]\n",
        " [ 2.          1.70761171  1.64234897  1.63612239  1.64917498  1.67125181\n",
        "   1.69979826  1.73467907  1.77664158  1.82651535  1.88399975  1.94470437\n",
        "   1.99353377  2.        ]\n",
        " [ 2.          1.86795653  1.81046283  1.79799082  1.80868454  1.83220678\n",
        "   1.86457679  1.90493652  1.9539161   2.01252844  2.08031302  2.14932298\n",
        "   2.18036705  2.        ]\n",
        " [ 2.          1.95375157  1.93355498  1.93669354  1.95536559  1.98431397\n",
        "   2.02136559  2.06657411  2.12155788  2.18936927  2.27540091  2.39190749\n",
        "   2.57861143  3.        ]\n",
        " [ 2.          2.01349476  2.033312    2.05986276  2.0917703   2.12831791\n",
        "   2.16999749  2.21843645  2.27637205  2.34798983  2.44001387  2.56429465\n",
        "   2.74217117  3.        ]\n",
        " [ 2.          2.06691548  2.12633548  2.1776752   2.22353494  2.26718991\n",
        "   2.31187     2.36080216  2.41750405  2.48620413  2.57237008  2.68308607\n",
        "   2.82577861  3.        ]\n",
        " [ 2.          2.12783166  2.22743927  2.30096761  2.35750434  2.40503678\n",
        "   2.44949043  2.49539812  2.54663787  2.60695256  2.68017625  2.76990095\n",
        "   2.87785719  3.        ]\n",
        " [ 2.          2.21697191  2.35462232  2.44125163  2.50047803  2.54596245\n",
        "   2.58565683  2.62466203  2.66669675  2.71479199  2.7714814   2.8384843\n",
        "   2.9157492   3.        ]\n",
        " [ 2.          2.38543365  2.53282646  2.60893857  2.65719371  2.69267816\n",
        "   2.72251239  2.75089642  2.78069511  2.81403724  2.85247307  2.89680566\n",
        "   2.9466553   3.        ]\n",
        " [ 3.          2.79193624  2.7823113   2.80448249  2.82668007  2.8450441\n",
        "   2.86081816  2.87571615  2.89115002  2.90818881  2.92756797  2.94960999\n",
        "   2.97406632  3.        ]\n",
        " [ 3.          3.          3.          3.          3.          3.          3.\n",
        "   3.          3.          3.          3.          3.          3.          3.        ]]\n"
       ]
      }
     ],
     "prompt_number": 28
    },
    {
     "cell_type": "code",
     "collapsed": false,
     "input": [
      "s4 = np.round(s3)\n",
      "print s4"
     ],
     "language": "python",
     "metadata": {},
     "outputs": [
      {
       "output_type": "stream",
       "stream": "stdout",
       "text": [
        "[[ 1.  1.  1.  1.  1.  1.  1.  1.  1.  1.  1.  1.  1.  1.]\n",
        " [ 1.  1.  1.  1.  1.  1.  1.  1.  1.  1.  1.  1.  1.  1.]\n",
        " [ 1.  1.  1.  1.  1.  1.  1.  1.  1.  1.  1.  2.  2.  2.]\n",
        " [ 1.  1.  1.  1.  1.  2.  2.  2.  2.  2.  2.  2.  2.  2.]\n",
        " [ 2.  2.  2.  2.  2.  2.  2.  2.  2.  2.  2.  2.  2.  2.]\n",
        " [ 2.  2.  2.  2.  2.  2.  2.  2.  2.  2.  2.  2.  2.  2.]\n",
        " [ 2.  2.  2.  2.  2.  2.  2.  2.  2.  2.  2.  2.  3.  3.]\n",
        " [ 2.  2.  2.  2.  2.  2.  2.  2.  2.  2.  2.  3.  3.  3.]\n",
        " [ 2.  2.  2.  2.  2.  2.  2.  2.  2.  2.  3.  3.  3.  3.]\n",
        " [ 2.  2.  2.  2.  2.  2.  2.  2.  3.  3.  3.  3.  3.  3.]\n",
        " [ 2.  2.  2.  2.  3.  3.  3.  3.  3.  3.  3.  3.  3.  3.]\n",
        " [ 2.  2.  3.  3.  3.  3.  3.  3.  3.  3.  3.  3.  3.  3.]\n",
        " [ 3.  3.  3.  3.  3.  3.  3.  3.  3.  3.  3.  3.  3.  3.]\n",
        " [ 3.  3.  3.  3.  3.  3.  3.  3.  3.  3.  3.  3.  3.  3.]]\n"
       ]
      }
     ],
     "prompt_number": 29
    },
    {
     "cell_type": "code",
     "collapsed": false,
     "input": [
      "matshow(s90)\n",
      "colorbar()\n",
      "matshow(s91)\n",
      "colorbar()\n",
      "show()"
     ],
     "language": "python",
     "metadata": {},
     "outputs": [
      {
       "metadata": {},
       "output_type": "display_data",
       "png": "[encoded data removed]",
       "text": [
        "<matplotlib.figure.Figure at 0xb0964c8c>"
       ]
      },
      {
       "metadata": {},
       "output_type": "display_data",
       "png": "[encoded data removed]",
       "text": [
        "<matplotlib.figure.Figure at 0xb0afbe2c>"
       ]
      }
     ],
     "prompt_number": 32
    },
    {
     "cell_type": "code",
     "collapsed": false,
     "input": [
      "matshow(s3)\n",
      "colorbar()\n",
      "matshow(s4)\n",
      "colorbar()\n",
      "show()"
     ],
     "language": "python",
     "metadata": {},
     "outputs": [
      {
       "metadata": {},
       "output_type": "display_data",
       "png": "[encoded data removed]",
       "text": [
        "<matplotlib.figure.Figure at 0xb0d5566c>"
       ]
      },
      {
       "metadata": {},
       "output_type": "display_data",
       "png": "[encoded data removed]",
       "text": [
        "<matplotlib.figure.Figure at 0xb0b6b60c>"
       ]
      }
     ],
     "prompt_number": 33
    },
    {
     "cell_type": "code",
     "collapsed": false,
     "input": [],
     "language": "python",
     "metadata": {},
     "outputs": []
    }
   ],
   "metadata": {}
  }
 ]
}