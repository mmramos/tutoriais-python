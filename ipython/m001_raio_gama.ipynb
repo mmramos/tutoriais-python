{
 "metadata": {
  "name": "",
  "signature": "sha256:04ddfce30d2b3d043e5f574f44b3a10679e7679a397beef0bc8c63352ef36d34"
 },
 "nbformat": 3,
 "nbformat_minor": 0,
 "worksheets": [
  {
   "cells": [
    {
     "cell_type": "markdown",
     "metadata": {
      "slideshow": {
       "slide_type": "slide"
      }
     },
     "source": [
      "<center><font face=\"Times New ROman\" size=\"10\" color=\"#000080\">- Raio Gama (RG ou GR) -</font></center>\n",
      "<br>\n",
      "<br><center><font face=\"Times New ROman\" size=\"6\" color=\"#000000\">- Introdu\u00e7\u00e3o -</font>"
     ]
    },
    {
     "cell_type": "markdown",
     "metadata": {},
     "source": [
      "<br>-Radia\u00e7\u00e3o Eletromagn\u00e9tica medida em comprimento de onda ou frequ\u00eancia (velocidade/comprimento de onda) ex: luz azul= 4800 Angstrons\n",
      "<br>\n",
      "<br>-frequ\u00eancia vezes a constante de planck 6,6x10<sup>-27</sup> Erg.s. (indica energia associada ao f\u00f3ton)\n",
      "<br>\n",
      "<br><center>$E = h.f=\\frac{c.h}{\\lambda}$</center>\n",
      "<br> Onde:\n",
      "<br> E = Energia em Erg\n",
      "<br> h = constante de planck (6,6x10<sup>-27</sup> Erg.s)\n",
      "<br> c = velocidade da luz\n",
      "<br> $\\lambda$ = Comprimento de Onda (Angstron)"
     ]
    },
    {
     "cell_type": "code",
     "collapsed": false,
     "input": [
      "c = 299792458 #m/s\n",
      "h = 6.6*(10**(-27)) #Erg\n",
      "la = 400*(10**(-9)) #m comprimento de onda, violeta\n",
      "lv = 700*(10**(-9)) #m comprimento de onda, vermelho\n",
      "\n",
      "Ea = (c*h)/la\n",
      "Ev = (c*h)/lv\n",
      "\n",
      "print Ea,'Erg (Energia do violeta)'\n",
      "print Ev,'Erg (Energia do vermelho)'"
     ],
     "language": "python",
     "metadata": {
      "slideshow": {
       "slide_type": "slide"
      }
     },
     "outputs": [
      {
       "output_type": "stream",
       "stream": "stdout",
       "text": [
        "4.946575557e-12 Erg (Energia do violeta)\n",
        "2.826614604e-12 Erg (Energia do vermelho)\n"
       ]
      }
     ],
     "prompt_number": 20
    },
    {
     "cell_type": "markdown",
     "metadata": {
      "slideshow": {
       "slide_type": "notes"
      }
     },
     "source": [
      "<b>MeV:</b> energia adquirida por um el\u00e9tron que se desloca em dire\u00e7\u00e3o a um \u00e2nodo, tendo um potencial el\u00e9trico de 1.000.000 Volts mais positivo que o potencial na sua fonte de origem"
     ]
    },
    {
     "cell_type": "markdown",
     "metadata": {
      "slideshow": {
       "slide_type": "subslide"
      }
     },
     "source": [
      "<br><b>E<sub>p</sub></b> \u00e9 a energia potencial el\u00e9trica descrita por:\n",
      "<br><center>E<sub>p</sub> = $K.\\frac{Q.q}{d}$</center>\n",
      "<br> Onde:\n",
      "<br> K = constante de Coulomb (8,987 552 x 10<sup>9</sup>)\n",
      "<br> Q e q s\u00e3o as cargas distintas e\n",
      "<br> d \u00e9 a dist\u00e2ncia entre elas\n",
      "<br>\n",
      "<br> sendo <b>v</b> diferen\u00e7a de potencial:\n",
      "<br><center>v = $\\frac{E_p}{q}$\n",
      "<br>v = $K.\\frac{Q}{d}$"
     ]
    },
    {
     "cell_type": "code",
     "collapsed": false,
     "input": [
      "# 1 erg = 6.2415 \u00d710 eV\n",
      "Eva = Ea*6.2415*(10**11)\n",
      "Evv = Ev*6.2415*(10**11)\n",
      "print Eva,'- Energia do Violeta em eV'\n",
      "print Evv,'- Energia do vermelho em eV'"
     ],
     "language": "python",
     "metadata": {
      "slideshow": {
       "slide_type": "slide"
      }
     },
     "outputs": [
      {
       "output_type": "stream",
       "stream": "stdout",
       "text": [
        "3.0874051339 - Energia do Violeta em eV\n",
        "1.76423150509 - Energia do vermelho em eV\n"
       ]
      }
     ],
     "prompt_number": 21
    },
    {
     "cell_type": "markdown",
     "metadata": {
      "slideshow": {
       "slide_type": "slide"
      }
     },
     "source": [
      "<br><center><font face=\"Times New ROman\" size=\"6\" color=\"#000000\">- Fontes -</font>"
     ]
    },
    {
     "cell_type": "markdown",
     "metadata": {
      "slideshow": {
       "slide_type": "slide"
      }
     },
     "source": [
      "<b>Efeito Compton</b> - F\u00f3ton incidente de <u>m\u00e9dia energia</u> desloca el\u00e9tron da orbita, cedendo parte da energia, e desvia de sua dire\u00e7\u00e3o incidente com menos energia<br>\n",
      "<b>Efeito Fotoel\u00e9trico</b> - F\u00f3ton incidente de <u>baixa energia</u> cedem toda a energia ao el\u00e9tron e desaparecem, enquanto que o el\u00e9tron se transforma em fotoel\u00e9tron livre<br>\n",
      "<b>Efeito de Produ\u00e7\u00e3o de par</b> - F\u00f3ton incidente de <u>alta energia</u> interage diretamente com o n\u00facleo dos \u00e1tomos produzindo um par de el\u00e9trons (p\u00f3sitron e negatron). O negatron se transforma em el\u00e9tron livre, e o p\u00f3sitron \u00e9 aniquilado"
     ]
    },
    {
     "cell_type": "markdown",
     "metadata": {
      "slideshow": {
       "slide_type": "slide"
      }
     },
     "source": [
      "As fontes principais da desintegra\u00e7\u00e3o do: U<sup>235</sup>, T<sup>232</sup>, Ta<sup>208</sup> e K<sup>40</sup>, elementos das rochas\n",
      "<br> K<sup>40</sup> emite gama a 1,46 MeV\n",
      "<br> T<sup>232</sup> e U<sup>235</sup> emitem numU<sup>235</sup>, T<sup>232</sup>a faixa de (2,62 a 1,76) MeV"
     ]
    },
    {
     "cell_type": "markdown",
     "metadata": {
      "slideshow": {
       "slide_type": "slide"
      }
     },
     "source": [
      "<br><center><font face=\"Times New ROman\" size=\"6\" color=\"#000000\">- Deposi\u00e7\u00e3o dos Radioelementos -</font>"
     ]
    },
    {
     "cell_type": "markdown",
     "metadata": {
      "slideshow": {
       "slide_type": "slide"
      }
     },
     "source": [
      "<b>Argilas e Folhelhos</b> s\u00e3o mais radioativos entre as rochas sedimentares pois possuem K<sup>40</sup>, e ret\u00e9m \u00edons met\u00e1licos (U<sup>235</sup>, T<sup>232</sup>).A radia\u00e7\u00e3o do K<sup>40</sup> representa 20% do total registrado"
     ]
    },
    {
     "cell_type": "markdown",
     "metadata": {
      "slideshow": {
       "slide_type": "slide"
      }
     },
     "source": [
      "<b>O T\u00f3rio</b> nos folhelhos se origina de part\u00edculas insol\u00faveis.\n",
      "<br><b>O Ur\u00e2nio</b> s\u00e3o sol\u00faveis em \u00e1gua quando oxidados e insol\u00faveis quando reduzidos\n",
      "<br><b>O Pot\u00e1ssio</b> \u00e9 20.000 vezes mais abundante nas rochas que o T\u00f3rio e o Ur\u00e2nio"
     ]
    },
    {
     "cell_type": "markdown",
     "metadata": {
      "slideshow": {
       "slide_type": "slide"
      }
     },
     "source": [
      "Amplitude de <b>75</b> a <b>150</b> API nos folhelhos\n",
      "<br>API (UAPI) Unidade baseada em uma rocha padr\u00e3o"
     ]
    },
    {
     "cell_type": "markdown",
     "metadata": {
      "slideshow": {
       "slide_type": "slide"
      }
     },
     "source": [
      "<br><b>Rochas altamente radioativas:</b> folhelhos de inunda\u00e7\u00e3o m\u00e1xima, escuros, betuminosos, de \u00e1guas profundas, evaporitos pot\u00e1ssicos e \u00edgneas\n",
      "<br><b>Rochas moderadamente radioativas:</b> folhelhos e arenitos argiloso de \u00e1guas rasas, e carbonatos e dolimitos argilosos.\n",
      "<br><b>Rochas com baixa radioatividade:</b>carv\u00f5es e evaporitos n\u00e3o pot\u00e1ssicos.\n",
      "<br>OBS: Organismos vivos tendem a acumular is\u00f3topos, logo, mat\u00e9ria org\u00e2nica promove alta radioatividade"
     ]
    },
    {
     "cell_type": "markdown",
     "metadata": {
      "slideshow": {
       "slide_type": "slide"
      }
     },
     "source": [
      "<br><center><font face=\"Times New ROman\" size=\"6\" color=\"#000000\">- Interpreta\u00e7\u00e3o do Perfil -</font>"
     ]
    },
    {
     "cell_type": "code",
     "collapsed": false,
     "input": [
      "IGRl = 45.0 # API - intervalo escolhido (lido)\n",
      "IGRx = 90.0 # API - valor maximo\n",
      "IGRi = 29.0 # API - valor minimo\n",
      "\n",
      "#________________________________\n",
      "\n",
      "IGR = (IGRl - IGRi)/(IGRx - IGRi)\n",
      "#________________________________\n",
      "\n",
      "print IGR,'% de argila ou argilosidade'"
     ],
     "language": "python",
     "metadata": {
      "slideshow": {
       "slide_type": "slide"
      }
     },
     "outputs": [
      {
       "output_type": "stream",
       "stream": "stdout",
       "text": [
        "0.262295081967 % de argila ou argilosidade\n"
       ]
      }
     ],
     "prompt_number": 22
    },
    {
     "cell_type": "code",
     "collapsed": false,
     "input": [
      "A = 2\n",
      "# A = 3 quando a rocha for do terciario e 2 quando for mais antiga\n",
      "\n",
      "VSH = IGR/(A-(A-1)*IGR)\n",
      "print VSH,'% de argila ou argilosidade com correcao de idade'"
     ],
     "language": "python",
     "metadata": {
      "slideshow": {
       "slide_type": "slide"
      }
     },
     "outputs": [
      {
       "output_type": "stream",
       "stream": "stdout",
       "text": [
        "0.150943396226 % de argila ou argilosidade com correcao de idade\n"
       ]
      }
     ],
     "prompt_number": 23
    },
    {
     "cell_type": "code",
     "collapsed": false,
     "input": [],
     "language": "python",
     "metadata": {
      "slideshow": {
       "slide_type": "slide"
      }
     },
     "outputs": [],
     "prompt_number": 23
    }
   ],
   "metadata": {}
  }
 ]
}