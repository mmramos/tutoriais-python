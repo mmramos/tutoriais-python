{
 "cells": [
  {
   "cell_type": "code",
   "execution_count": 47,
   "metadata": {
    "collapsed": true
   },
   "outputs": [],
   "source": [
    "import numpy as np\n",
    "import matplotlib.pyplot as plt\n",
    "%matplotlib inline"
   ]
  },
  {
   "cell_type": "markdown",
   "metadata": {},
   "source": [
    "<a href=\"https://www.youtube.com/watch?v=tYaW-1kzTZI&index=24&list=PLIeGtxpvyG-KxMqY8wJ0KoY3ujxf0C856\">Markov Chains</a>"
   ]
  },
  {
   "cell_type": "code",
   "execution_count": 85,
   "metadata": {
    "collapsed": false
   },
   "outputs": [
    {
     "name": "stdout",
     "output_type": "stream",
     "text": [
      "[[ 0.6   0.4 ]\n",
      " [ 0.15  0.85]] [ 0.1  0.9]  \n",
      "\n",
      "[ 0.195  0.805] \n",
      "\n",
      "[ 0.23775  0.76225] \n",
      "\n",
      "[ 0.23775  0.76225] \n",
      "\n",
      "[ 0.27266846  0.72733154] \n",
      "\n"
     ]
    },
    {
     "data": {
      "image/png": "[encoded data removed]",
      "text/plain": [
       "<matplotlib.figure.Figure at 0xa97dc82c>"
      ]
     },
     "metadata": {},
     "output_type": "display_data"
    },
    {
     "name": "stdout",
     "output_type": "stream",
     "text": [
      "[ 0.27272727  0.72727273] vPm\n",
      "[[ 0.27272727  0.72727273]\n",
      " [ 0.27272727  0.72727273]]\n"
     ]
    }
   ],
   "source": [
    "# problema apolice de seguros para carro\n",
    "# duas hipoteses: Pessoa de baixo risco, pessoa de alto risco\n",
    "# pessoa de alto risco: recebeu uma multa nos ultimos 12 meses\n",
    "# pessoa de baixo risco: nao recebeu uma multa nos ultimos 12 meses\n",
    "#-------------------------------------------------------------------\n",
    "# - Probabilidades -\n",
    "#-------------------------------------------------------------------\n",
    "# Ao entrar pela porta da seguradora, uma pessoa tem 10% de chance de ser de risco, e 90% de chance de nao ser\n",
    "# probabilidades para:\n",
    "# - permanecer em alto risco no ano seguinte: 60% \n",
    "# - mudar de alto risco para baixo risco no ano seguinte: 40%\n",
    "# - permanecer em baixo risco no ano seguinte: 85%\n",
    "# - mudar de baixo risco para alto risco no ano seguinte: 15%\n",
    "\n",
    "O = np.array([.10,.90],float) # probabilidade inicial \"entrou pela porta\"\n",
    "M = np.array([[.6,.4],[.15,.85]],float) # matriz das probabilidades (matriz de transição)\n",
    "print (M,O,' \\n')\n",
    "\n",
    "P1ano = np.dot(O,M) # a probabilidade ao passar um ano [estar em alto risco,estar em baixo risco]\n",
    "print (P1ano,'\\n')\n",
    "\n",
    "# para dois anos\n",
    "\n",
    "P2ano_0 = np.dot(P1ano,M) # a probabilidade apos dois anos [estar em alto risco,estar em baixo risco]\n",
    "print (P2ano_0,'\\n')\n",
    "\n",
    "# ou\n",
    "\n",
    "P2ano_1 = np.dot(O,np.linalg.matrix_power(M,2))\n",
    "\n",
    "print (P2ano_1,'\\n')\n",
    "\n",
    "# logo, para n anos, onde n = 10\n",
    "\n",
    "n = 10\n",
    "\n",
    "Pnano = np.dot(O,np.linalg.matrix_power(M,n))\n",
    "\n",
    "print (Pnano,'\\n')\n",
    "\n",
    "HR  = []\n",
    "LR  = []\n",
    "ano = []\n",
    "\n",
    "N = 60\n",
    "\n",
    "for i in range (N):\n",
    "    \n",
    "    Pnano0 = np.dot(O,np.linalg.matrix_power(M,i))\n",
    "    HR.append(Pnano0[0])\n",
    "    LR.append(Pnano0[1])\n",
    "    ano.append(i)\n",
    "        \n",
    "plt.plot(ano,HR,'-r')\n",
    "plt.plot(ano,LR,'-b')\n",
    "plt.show()\n",
    "\n",
    "print (Pnano0,'vPm')\n",
    "\n",
    "print(np.linalg.matrix_power(M,40))"
   ]
  },
  {
   "cell_type": "code",
   "execution_count": 73,
   "metadata": {
    "collapsed": false
   },
   "outputs": [
    {
     "data": {
      "image/png": "[encoded data removed]",
      "text/plain": [
       "<matplotlib.figure.Figure at 0xa9705a0c>"
      ]
     },
     "metadata": {},
     "output_type": "display_data"
    },
    {
     "name": "stdout",
     "output_type": "stream",
     "text": [
      "[ 0.27272736  0.72727264]\n"
     ]
    }
   ],
   "source": [
    "# So de alto risco:\n",
    "# - ja começa estando em alto risco\n",
    "# - permanecer em alto risco no ano seguinte: 60%, mudar: 40%\n",
    "# - permanecer em baixo risco no ano seguinte: 85%, mudar: 15%\n",
    "\n",
    "O2  = [.6,.4]\n",
    "HR2  = []\n",
    "LR2  = []\n",
    "ano2 = []\n",
    "\n",
    "N = 20\n",
    "\n",
    "for i in range (N):\n",
    "    \n",
    "    Pnano01 = np.dot(O2,np.linalg.matrix_power(M,i))\n",
    "    HR2.append(Pnano01[0])\n",
    "    LR2.append(Pnano01[1])\n",
    "    ano2.append(i)\n",
    "\n",
    "plt.plot(ano2,HR2,'-r')\n",
    "plt.plot(ano2,LR2,'-b')\n",
    "plt.show()\n",
    "\n",
    "print (Pnano01)"
   ]
  },
  {
   "cell_type": "code",
   "execution_count": 74,
   "metadata": {
    "collapsed": false
   },
   "outputs": [
    {
     "data": {
      "image/png": "[encoded data removed]",
      "text/plain": [
       "<matplotlib.figure.Figure at 0xa9a9270c>"
      ]
     },
     "metadata": {},
     "output_type": "display_data"
    },
    {
     "name": "stdout",
     "output_type": "stream",
     "text": [
      "[ 0.27272724  0.72727276]\n"
     ]
    }
   ],
   "source": [
    "# So de baixo risco:\n",
    "# - ja começa estando em baixo risco\n",
    "# - permanecer em alto risco no ano seguinte: 60%, mudar: 40%\n",
    "# - permanecer em baixo risco no ano seguinte: 85%, mudar: 15%\n",
    "\n",
    "O3  = [.15,.85]\n",
    "HR3  = []\n",
    "LR3  = []\n",
    "ano3 = []\n",
    "\n",
    "N = 20\n",
    "\n",
    "for i in range (N):\n",
    "    \n",
    "    Pnano02 = np.dot(O3,np.linalg.matrix_power(M,i))\n",
    "    HR3.append(Pnano02[0])\n",
    "    LR3.append(Pnano02[1])\n",
    "    ano3.append(i)\n",
    "\n",
    "plt.plot(ano3,HR3,'-r')\n",
    "plt.plot(ano3,LR3,'-b')\n",
    "plt.show()\n",
    "\n",
    "print (Pnano02)"
   ]
  },
  {
   "cell_type": "code",
   "execution_count": 86,
   "metadata": {
    "collapsed": true
   },
   "outputs": [],
   "source": [
    "# Estado estacionario\n",
    "# Em algum ponto, os vetores entrarão em estado estacionario, de forma que, na equacao vP^m, vP = v\n",
    "\n",
    "#exemplo: seja v = [x,y], e P = [[.6,.4],[.15,.85]], qual o valor de [x,y] no estado estacionario?\n",
    "# [x,y].[[.6,.4],[.15,.85]] = [x,y]\n",
    "# x + y = 1 (probabilidade) | y = 1 - x\n",
    "# [x,1-x].[[.6,.4],[.15,.85]] = [x,1-x]\n",
    "# vP = v | vP - v = 0 | v(P-I) = 0\n",
    "# [x,1-x].([[.6,.4],[.15,.85]] - [[1,0],[0,1]]) = 0\n"
   ]
  },
  {
   "cell_type": "code",
   "execution_count": null,
   "metadata": {
    "collapsed": true
   },
   "outputs": [],
   "source": []
  }
 ],
 "metadata": {
  "kernelspec": {
   "display_name": "Python 3",
   "language": "python",
   "name": "python3"
  },
  "language_info": {
   "codemirror_mode": {
    "name": "ipython",
    "version": 3
   },
   "file_extension": ".py",
   "mimetype": "text/x-python",
   "name": "python",
   "nbconvert_exporter": "python",
   "pygments_lexer": "ipython3",
   "version": "3.5.1"
  }
 },
 "nbformat": 4,
 "nbformat_minor": 0
}
