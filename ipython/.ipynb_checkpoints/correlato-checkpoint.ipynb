{
 "metadata": {
  "name": "",
  "signature": "sha256:e9ac333a79c45582a671c27a51efb6ca19eba5634585dd5a557982b34d119eb1"
 },
 "nbformat": 3,
 "nbformat_minor": 0,
 "worksheets": [
  {
   "cells": [
    {
     "cell_type": "markdown",
     "metadata": {},
     "source": []
    },
    {
     "cell_type": "code",
     "collapsed": false,
     "input": [
      "%matplotlib inline\n",
      "import numpy as np\n",
      "import matplotlib.pyplot as plt\n",
      "from matplotlib.pylab import *"
     ],
     "language": "python",
     "metadata": {},
     "outputs": [],
     "prompt_number": 90
    },
    {
     "cell_type": "code",
     "collapsed": false,
     "input": [
      "h = 100\n",
      "\n",
      "ha1 = int((h*30)/100)\n",
      "ha2 = int((h*60)/100)\n",
      "ha3 = int(h -ha1 -ha2)\n",
      "\n",
      "ma1 = [1]*ha1\n",
      "ma2 = [2]*ha2\n",
      "ma3 = [3]*ha3\n",
      "\n",
      "a = np.array(ma1+ma2+ma3)\n",
      "print 'a =',a\n",
      "\n",
      "#______________________________________________________________\n",
      "\n",
      "hb1 = int((h*20)/100)\n",
      "hb2 = int((h*30)/100)\n",
      "hb3 = int(h -hb1 -hb2)\n",
      "\n",
      "mb1 = [1]*hb1\n",
      "mb2 = [2]*hb2\n",
      "mb3 = [3]*hb3\n",
      "\n",
      "b = np.array(mb1+mb2+mb3)\n",
      "print 'b =',b"
     ],
     "language": "python",
     "metadata": {},
     "outputs": [
      {
       "output_type": "stream",
       "stream": "stdout",
       "text": [
        "a = [1 1 1 1 1 1 1 1 1 1 1 1 1 1 1 1 1 1 1 1 1 1 1 1 1 1 1 1 1 1 2 2 2 2 2 2 2\n",
        " 2 2 2 2 2 2 2 2 2 2 2 2 2 2 2 2 2 2 2 2 2 2 2 2 2 2 2 2 2 2 2 2 2 2 2 2 2\n",
        " 2 2 2 2 2 2 2 2 2 2 2 2 2 2 2 2 3 3 3 3 3 3 3 3 3 3]\n",
        "b = [1 1 1 1 1 1 1 1 1 1 1 1 1 1 1 1 1 1 1 1 2 2 2 2 2 2 2 2 2 2 2 2 2 2 2 2 2\n",
        " 2 2 2 2 2 2 2 2 2 2 2 2 2 3 3 3 3 3 3 3 3 3 3 3 3 3 3 3 3 3 3 3 3 3 3 3 3\n",
        " 3 3 3 3 3 3 3 3 3 3 3 3 3 3 3 3 3 3 3 3 3 3 3 3 3 3]\n"
       ]
      }
     ],
     "prompt_number": 92
    },
    {
     "cell_type": "code",
     "collapsed": false,
     "input": [
      "l = 100\n",
      "c = len(a)\n",
      "\n",
      "shape = (c,l)\n",
      "s = np.zeros(shape)\n",
      "\n",
      "s[:,0]   = a\n",
      "s[:,l-1] = b\n",
      "\n",
      "top = [a[0]]*l\n",
      "bas = [a[len(a)-1]]*l\n",
      "\n",
      "s[0,:] = top\n",
      "s[c-1,:] = bas\n",
      "\n",
      "print s\n",
      "#print s[0,:] #primeira linha\n",
      "#print s[:,0] #primeira coluna"
     ],
     "language": "python",
     "metadata": {},
     "outputs": [
      {
       "output_type": "stream",
       "stream": "stdout",
       "text": [
        "[[ 1.  1.  1. ...,  1.  1.  1.]\n",
        " [ 1.  0.  0. ...,  0.  0.  1.]\n",
        " [ 1.  0.  0. ...,  0.  0.  1.]\n",
        " ..., \n",
        " [ 3.  0.  0. ...,  0.  0.  3.]\n",
        " [ 3.  0.  0. ...,  0.  0.  3.]\n",
        " [ 3.  3.  3. ...,  3.  3.  3.]]\n"
       ]
      }
     ],
     "prompt_number": 94
    },
    {
     "cell_type": "code",
     "collapsed": false,
     "input": [
      "s2 = s\n",
      "s3 = s\n",
      "\n",
      "t =100\n",
      "\n",
      "for k in range (t):\n",
      "    for j in range (1,l-1):\n",
      "        for i in range(1,c-1):\n",
      "            s3[i,j] = (s2[i-1,j]+s2[i+1,j]+s2[i,j-1]+s2[i,j+1])*0.25\n",
      "    s3 = s2\n",
      "    \n",
      "print s3"
     ],
     "language": "python",
     "metadata": {},
     "outputs": [
      {
       "output_type": "stream",
       "stream": "stdout",
       "text": [
        "[[ 1.          1.          1.         ...,  1.          1.          1.        ]\n",
        " [ 1.          0.99329131  0.98671847 ...,  0.98769367  0.99385128  1.        ]\n",
        " [ 1.          0.98671938  0.97370582 ...,  0.97567382  0.9878464   1.        ]\n",
        " ..., \n",
        " [ 3.          2.952135    2.90596432 ...,  2.92821619  2.96410732  3.        ]\n",
        " [ 3.          2.97629275  2.95337609 ...,  2.96410733  2.98205366  3.        ]\n",
        " [ 3.          3.          3.         ...,  3.          3.          3.        ]]\n"
       ]
      }
     ],
     "prompt_number": 96
    },
    {
     "cell_type": "code",
     "collapsed": false,
     "input": [
      "s4 = np.round(s3)\n",
      "print s4"
     ],
     "language": "python",
     "metadata": {},
     "outputs": [
      {
       "output_type": "stream",
       "stream": "stdout",
       "text": [
        "[[ 1.  1.  1. ...,  1.  1.  1.]\n",
        " [ 1.  1.  1. ...,  1.  1.  1.]\n",
        " [ 1.  1.  1. ...,  1.  1.  1.]\n",
        " ..., \n",
        " [ 3.  3.  3. ...,  3.  3.  3.]\n",
        " [ 3.  3.  3. ...,  3.  3.  3.]\n",
        " [ 3.  3.  3. ...,  3.  3.  3.]]\n"
       ]
      }
     ],
     "prompt_number": 97
    },
    {
     "cell_type": "code",
     "collapsed": false,
     "input": [
      "matshow(s4)\n",
      "colorbar()\n",
      "show()"
     ],
     "language": "python",
     "metadata": {},
     "outputs": [
      {
       "metadata": {},
       "output_type": "display_data",
       "png": "[encoded data removed]",
       "text": [
        "<matplotlib.figure.Figure at 0xb0d5ceac>"
       ]
      }
     ],
     "prompt_number": 99
    },
    {
     "cell_type": "code",
     "collapsed": false,
     "input": [],
     "language": "python",
     "metadata": {},
     "outputs": []
    }
   ],
   "metadata": {}
  }
 ]
}