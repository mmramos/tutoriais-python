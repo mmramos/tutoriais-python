{
 "cells": [
  {
   "cell_type": "markdown",
   "metadata": {},
   "source": [
    "http://www.flextool.com.br/tabela_cores.html"
   ]
  },
  {
   "cell_type": "markdown",
   "metadata": {},
   "source": [
    "<p align=\"justify\">Efrém da Síria ou Efrém, o Sírio (em siríaco: ܐܦܪܝܡ ܣܘܪܝܝܐ; transl.: Mor/Mar Afrêm Sûryāyâ; em grego: Ἐφραίμ ὁ Σῦρος; transl.: Ephraem Syrus; ca. 306 — 9 de junho de 373) foi um prolífico compositor de hinos e teólogo do século IV, venerado por cristãos do mundo inteiro, especialmente pela Igreja Ortodoxa Síria, como um santo. Nascido em Nísibis, foi discípulo de Tiago de Nísibis na famosa escola da cidade.Escapando do avanço do exército sassânida, fugiu para Edessa onde lecionou por muitos anos. Autor de uma grande variedade de hinos, poemas e sermões de exegese bíblica,</p>"
   ]
  },
  {
   "cell_type": "markdown",
   "metadata": {},
   "source": [
    "<div style=\"border: 1px solid black; font-family: Police monospace; font-size: 12pt; float: left; width: 50%\">Aqui o Texto da Coluna da Esquerda</div>\n",
    "<div style=\"font-family: Times New Roman; font-size: 24pt; float: right; width: 50%\">Aqui o Texto da Coluna da Direita</div>"
   ]
  },
  {
   "cell_type": "markdown",
   "metadata": {},
   "source": [
    "<div style=\"color: #FF0000; border: 1px dotted black; font-family: Arial; font-size: 12pt; background-image: url('https://yoble.s3.amazonaws.com/4d2cd172b8d616d1031b4a107271628d.jpg')\">\"The Beginning of the End\" (em português: \"O Início do Fim\") é o primeiro episódio da sétima temporada da série de televisão norte-americana de comédia de situação 30 Rock, e o centésimo vigésimo sexto da série em geral. Foi dirigido pelo produtor Don Scardino e teve o seu enredo escrito pelo produtor executivo da temporada Jack Burditt, marcando assim a única vez que uma estreia de temporada não teve o seu enredo escrito por Tina Fey, criadora e produtora executiva do seriado.</div>"
   ]
  },
  {
   "cell_type": "markdown",
   "metadata": {},
   "source": [
    "<div style=\"font-family: Helvetica; font-size: 12pt; background-color: #e0ffff\">\n",
    "    <div id=\"2\" style=\"color: #FF0000; background-color: #e0ffff; float: left; width: 45%\">\n",
    "    <h5>Section 1</h5>\n",
    "    <p>This paragraph would be your content paragraph...</p>\n",
    "    <p>Here's another content article right here.</p>\n",
    "    </div >\n",
    "    <div id=\"3\" style=\"color: #EED2EE;border: 1px dashed black; float: right; width: 45%\">\n",
    "    <h5>Section 2</h5>\n",
    "    <p>This paragraph would be your content paragraph...</p>\n",
    "    <p>Here's another content article right here.</p>\n",
    "    </div>\n",
    "</div>"
   ]
  },
  {
   "cell_type": "markdown",
   "metadata": {},
   "source": [
    "<div style=\"font-family: Helvetica; font-size: 12pt; background-color: #E8E8E8; height: 90px\">\n",
    "    <br>\n",
    "<div id=\"1\" style=\"color: white; width: 45%; background-color: #8B658B; margin-left: 33%\">\n",
    "<center>Título aqui</center>\n",
    "</div>\n",
    "<br>\n",
    "<div id=\"2\" style=\"color: black; width: 45%; background-color: #EED2EE; margin-left: 30px; float: left\">\n",
    "<p>O que vai ser escrito na div esquerda</p>\n",
    "\n",
    "</div>\n",
    "    \n",
    "<div id=\"3\" style=\"color: black; width: 45%; background-color: #AB82FF; margin-right: 30px; float: right\">\n",
    "<p>O que vai ser escrito na div da direita</p>\n",
    "</div>\n",
    "    \n",
    "</div>"
   ]
  },
  {
   "cell_type": "markdown",
   "metadata": {},
   "source": [
    "<span title=\"LOOOOOOOOOOOOOL\"><b>Pare seu mouse sobre esta frase.</b></span>"
   ]
  },
  {
   "cell_type": "markdown",
   "metadata": {},
   "source": [
    "<div style=\"background-color: #E0EEEE; height: 600px\">\n",
    "<div style=\"font-family: Times; color: white; height: 25px; background-color: #4682B4\">\n",
    "<center><a href=\"http://www.on.br/conteudo/modelo.php?endereco=institucional/institucional.html\"  style=\"color: white; text-decoration: none\">Institucional</a> | Editais e licitações | Serviços | Pesquisa | Produção Científica | Biblioteca | Divulgação Científica | Pessoal </center>\n",
    "</div>\n",
    "<!--Banner Azul-->\n",
    "<br>\n",
    "<div id=\"2\" style=\"border: 1px solid black; color: black; width: 46%; background-color: #EED2EE; margin-left: 27%; float: center\">\n",
    "<center><p><img src='http://www.ctcc.no/internal/graphics/ctcc-banner-blue-3.png'></p></center>\n",
    "</div>\n",
    "<br>\n",
    "\n",
    "<!--Div da esquerda-->\n",
    "<div id=\"2\" style=\"color: black;font-size: 11pt; width: 28%; background-color: #B9D3EE; margin-left: 2%; float: left; padding: 0.2%\"><div style=\"font-family: Times;font-size: 13pt; color: white; height: 25px; background-color: #9FB6CD\"><center>Acesso à Informação</center></div>\n",
    "\n",
    "Institucional\n",
    "<br>Ações e programas\n",
    "<br>Auditorias\n",
    "<br>Convênios\n",
    "<br>Despesas\n",
    "<br>Licitações e contratos\n",
    "<br>Servidores\n",
    "<br>Perguntas frequentes\n",
    "<br>Sobre a Lei de Acesso à Informação\n",
    "<br>Plano de Logística Sustentável\n",
    "<br>Serviço de Informação ao Cidadão - SIC\n",
    "<br>Informações classificadas\n",
    "</div>\n",
    "\n",
    "<!--Div do centro-->\n",
    "<div id=\"2\" style=\"color: black; padding: 0.2%; font-size: 11pt; overflow: auto; left: 30%; top: 50%; width: 39%; height: 46.5%; background-color: #B9D3EE; margin-left: 1.5%; float: left\"><div style=\"font-family: Times; color: white; height: 25px; background-color: #9FB6CD\"><center>Notícias</center></div>\n",
    "<p>Christianity in Byzantium existed from the 1st century, but it was in the year 330 that the Roman Emperor Constantine the Great moved his residence to the small Greek town of Byzantium, renaming it Nova Roma. From that time, the importance of the church there grew, along with the influence of its bishop.\n",
    "\n",
    "Prior to the moving of the imperial capital, the bishop of Byzantium had been under the authority of the metropolitan of Heraclea, but beginning in the 4th century, he grew to become independent in his own right and even to exercise authority throughout what is now Greece, Asia Minor, Pontus, and Thrace. With the development of the hierarchical structure of the Church, the bishop of Constantinople came to be styled as exarch (a position superior to metropolitan). Constantinople was recognized as the fourth patriarchate at the First Council of Constantinople in 381, after Antioch, Alexandria, and Rome. The patriarch was usually appointed by Antioch.\n",
    "\n",
    "Because of the importance of the position of Constantinople's church at the center of the Roman Empire, affairs involving the various churches outside Constantinople's direct authority came to be discussed in the capital, particularly where the intervention of the emperor was desired. The patriarch naturally became a liaison between the emperor and bishops traveling to the capital, thus establishing the position of the patriarch as one involving the unity of the whole Church, particularly in the East.</p>\n",
    "</div>\n",
    "\n",
    "<!--Div da direita-->\n",
    "<div id=\"3\" style=\"color: black; overflow: auto; height: 46.5%; width: 25%; padding: 0.2%; font-size: 11pt; background-color: #B9D3EE; margin-right: 2%; float: right\"><div style=\"font-family: Times; color: white; height: 25px; background-color: #9FB6CD\"><center>Congressos e Eventos</center></div>\n",
    "<p>SEMINÁRIOS \n",
    "\n",
    "JICON - 2014\n",
    "(Jornada de IC no Observatorio Nacional) \n",
    "Dia: 02/12/14 (02 de dezembro de 2014) \n",
    "Convidamos à comunidade do ON a participar da próxima Jornada de IC do ON, onde nossos bolsistas apresentarão os resultados dos seus trabalhos.\n",
    "Aqui o cartaz do evento e o horário das apresentações \n",
    "\n",
    "Curso: Teoria das Perturbações cosmológicas \n",
    "O período é de 12 - 14/11/2014 \n",
    "COAA - ON\n",
    "Prof. Dr. W. Zimdahl \n",
    "\n",
    "XIX Ciclo de Cursos Especiais \n",
    "De 03/11 a 07/11/2014 - ON \n",
    "\n",
    "J-PAS/Theory Miniworkshop \n",
    "Dia 15/10/2014 - ON \n",
    "\n",
    "Seminário em Tempo e Frequência - 2014\n",
    "“HYPERBOLIC STABILITY IN OPTICAL CAVITY: GEOMETRIC APPROACH TO DYNAMIC SYSTEMS” \n",
    "Dia 23/09/2014 - ON \n",
    "\n",
    "I Astrobiology School at the Observatório Nacional\n",
    "Dia: 08 a 12 de setembro de 2014 \n",
    "\n",
    "ALMA and the Brazilian Community Workshop\n",
    "Dia: 18 a 21 de agosto de 2014 \n",
    "\n",
    "Escola de Inverno - Astronomia \n",
    "De 04 - 07 de agosto de 2014 - ON \n",
    "\n",
    "Composite Spectra: reconstructing the components\n",
    "Dia: 28 de Julho a 01 de Agosto de 2014 \n",
    "\n",
    "Minicursos de \"Evolução Galáctica e Redshift Fotométrico\" \n",
    "De 21/07 a 23/07/2014 - ON \n",
    "\n",
    "XLDB South America 2014 - Observatório Nacional\n",
    "Dia: 03 a 04 de Junho \n",
    "\n",
    "Dark Energy Survey realiza sua \n",
    "20a. reunião\n",
    "Dia: 19 a 23 de maio de 2014\n",
    "NCSA, Urbana, IL, EUA \n",
    "\n",
    "Aula Inaugural do Programa de Pós-Graduação em Geofísica - 2014 \n",
    "“De Lobato ao Pré-Sal: os 60 anos de exploração petrolífera no Brasil\" \n",
    "Dia: 12/03/2014 - ON \n",
    "\n",
    "JICON - 2014 \n",
    "Dia: 08/01/2014 - ON </p>\n",
    "</div>\n",
    "    \n",
    "</div> <!--Div final-->"
   ]
  },
  {
   "cell_type": "markdown",
   "metadata": {},
   "source": [
    " style=\"position: absolute; <- não importa quanto você role a barra, o div ficará no mesmo ponto sempre"
   ]
  },
  {
   "cell_type": "markdown",
   "metadata": {},
   "source": [
    "<div style=\"font-family: Helvetica; font-size: 12pt; background-color: #E8E8E8; height: 60px\">\n",
    "    <br>\n",
    "    <div style=\"color: white; width: 400px; background-color: #8B658B; margin-left: 33%\">\n",
    "    <center>Título aqui</center>\n",
    "    </div>\n",
    "</div>"
   ]
  },
  {
   "cell_type": "markdown",
   "metadata": {},
   "source": [
    "\n",
    "<div style=\"border: 1px solid black; color: white; font-family: Arial; font-size: 12pt; width: 500px ; height: 160px; background-image: url('https://lh4.googleusercontent.com/-XaRxlLenf5Y/VIYMddkoW1I/AAAAAAAAAIo/eztFMWrLVbw/w500-h200-no/tumblr_nd92joFlc01s389oyo1_500.gif')\">ᴠʟᴀᴅ ᴛʜᴇ ᴛʜɪʀᴅ ＤＲＡＣＵＬＡ"
   ]
  },
  {
   "cell_type": "markdown",
   "metadata": {
    "collapsed": false
   },
   "source": [
    "<div style=\"color: white; background-image: url('http://thumb101.shutterstock.com/display_pic_with_logo/1221419/134665913/stock-vector-seamless-vector-geometric-color-pattern-background-134665913.jpg'); padding: 30px\">\n",
    "<div style=\"color: white; background-color: black; padding: 15px\"> \n",
    "é o primeiro episódio da sétima temporada da série de televisão norte-americana de comédia de situação 30 Rock, e o centésimo vigésimo sexto da série em geral. Foi dirigido pelo produtor Don Scardino e teve o seu enredo escrito pelo produtor executivo da temporada Jack Burditt, marcando assim a única vez que uma estreia de temporada não teve o seu enredo escrito por Tina Fey, criadora e produtora executiva do seriado.\n",
    "</div>\n",
    "</div>"
   ]
  },
  {
   "cell_type": "markdown",
   "metadata": {},
   "source": [
    "<div id=\"2\" style=\"color: #000000; float: left; width: 70%; margin-left: 15%; font-family: Times; font-size: 140%\">\n",
    "<br><br><br>\n",
    "<p style='text-align: justify;'>... Um potente soco era aplicado por Juan contra o solo, as ondas de choque poderosas se alastravam pelas estruturas fazendo-as tremer frente ao impacto. Enquanto as ondas de choque viajavam e trafegavam pelas estruturas reverberando, tremendo, e por fim quebrando porções estruturais importantes daquela construção, fazendo desabar as pesadas colunas de mármore trabalhado. As colunas os adornos e parte do alicerce suspenso tombavam por fim se transformando em meros escombros sem valor. Um som monstruoso evidenciava para todos os presentes um profundo dano estrutural provocado no local que aos poucos ia se retraindo e amenizando até desaparecer no meio de alguns poucos sons locais da areia final que escoava das velhas colunas pulverizadas no epicentro do desmoronamento. \n",
    "<br><br><br><br>\n",
    "E após aquele desabamento, existia um pouco de silêncio enquanto reinava a poeira suspensa residual das estruturas que criava uma névoa densa e obscura, tampando parte da visão periférica assim como a visão frontal distante, justamente para o que estivesse além do portal.\n",
    "<br><br><center><br><br><img src='http://www.deathms2.altervista.org/capella/cap044.jpg' width='288'; style=\"border: white 8px solid; box-shadow: 1px 1px 4px black\"><br/><br/></center><br><br>\n",
    "Mas o silêncio durava pouco, ao longe se escutavam alguns sons ocos e metálicos, distantes e repetitivos que lentamente aumentavam de intensidade ao passo que na mesma proporção se formava da névoa de poeira suspensa uma silhueta disforme que gradualmente se transfigurava em uma forma humanóide. \n",
    "<br><br><br><br>\n",
    "Uma forma imponente adornada por uma longa capa branca, um cavaleiro de prata com armadura púrpura robusta que emergia lentamente das \"névoas\" até parar a alguns metros a frente de Juan de escudo. Nos poucos segundos parados a frente do Juan a poeira decantava exibindo cada vez mais da forma imponente de Jaga. Um sorriso confiante não agressivo, mas vazio... o lendário cavaleiro de Órion, morto em tempos arcaicos, que novamente surgia no mundo dos vivos.</p></div>"
   ]
  },
  {
   "cell_type": "markdown",
   "metadata": {
    "collapsed": true
   },
   "source": [
    "<div style=\"color: white; background-color: purple;border: 1px solid black; padding: 5px\">\n",
    "\n",
    "<h1>- Técnicas. Habilidades e Considerações -</h1>\n",
    "\n",
    "<div style=\"color: white; background-color: black; padding: 15px; border: 1px solid white; margin: 10px\"> \n",
    "\n",
    "<h2>Habilidade Passiva</h2>\n",
    "<h3>Cavaleiro Fantasma</h3>\n",
    "\n",
    "<p style='text-align: justify;'> Os cavaleiros Fantasmas (Ghost Saints) são ex cavaleiros de Athena que foram outrora considerados grandes heróis, mas que depois de mortos caíram no esquecimento. O simples fato de poder viver novamente é o suficiente para que eles aceitem o comando de Éris. Orfeu nos dá um dos poucos vislumbres sobre o que realmente significa ser um cavaleiro fantasma. Após receber o Golpe Fantasma ele cita que a técnica não pode surtir efeito algum pois para os cavaleiros fantasmas \"o inferno é como um segundo lar\". Podemos portanto concluir que estes mantém viva sua memória desde os tempos em vida, assim como todo o sofrimento do inferno. Ou seja, além de serem grandes heróis de sua época, eles estão acostumados a uma condição de stress inimaginável, visto que alguns podem estar queimando no inferno desde os tempos mitológicos, como no caso de Jaga. Esta condição peculiar lhes torna extremamente resistenes tanto psicológicamente quanto fisicamente.\n",
    "<br/><br/>\n",
    "Devido a condição anômala de sua personalidade, os cavaleiros fantasmas costumam produzir um forte efeito de sugestão, que costuma ser absorvido com mais intensidade por oponentes com o psicológico fraco.\n",
    "<br/><br/>\n",
    "Os efeitos variam desde visões confusas aleatórias, tonturas a alucinações e pânico.\n",
    "<br/><br/>\n",
    "</p>\n",
    "</div>\n",
    "\n",
    "<div style=\"color: white; background-color: black; padding: 15px; border: 1px solid white; margin: 10px\"> \n",
    "\n",
    "<h2>Técnica ou habilidade</h2>\n",
    "<h3>nome da Técnica ou habilidade</h3>\n",
    "\n",
    "<p style='text-align: justify;'>da série de televisão norte-americana de comédia de situação 30 Rock, e o centésimo vigésimo sexto da série em geral. Foi dirigido pelo produtor Don Scardino e teve o seu enredo escrito pelo produtor executivo da temporada Jack Burditt, marcando assim a única vez que uma estreia de temporada não teve o seu enredo escrito por Tina Fey, criadora e produtora executiva do seriado.</p>\n",
    "</div>\n",
    "\n",
    "</div>"
   ]
  },
  {
   "cell_type": "markdown",
   "metadata": {
    "collapsed": true
   },
   "source": [
    "<iframe width=\"420\" height=\"315\" ; style=\"border: black 3px double\" src=\"https://www.youtube.com/embed/aWxBrI0g1kE\" frameborder=\"0\" allowfullscreen></iframe>"
   ]
  },
  {
   "cell_type": "markdown",
   "metadata": {
    "collapsed": true
   },
   "source": [
    "<div style='margin: 0px 100px 0px 100px;' >\n",
    "<p style='text-align: justify;'>Um potente soco era aplicado por Juan contra o solo, as ondas de choque poderosas se alastravam pelas estruturas fazendo-as tremer frente ao impacto. Enquanto as ondas de choque viajavam e trafegavam pelas estruturas reverberando, tremendo, e por fim quebrando porções estruturais importantes daquela construção, fazendo desabar as pesadas colunas de mármore trabalhado. As colnas os adornos e parte do alicerce suspenso tombavam por fim se transformando em meros escombros sem valor. Um som monstruoso evidenciava para todos os presentes um profundo dano estrutural provocado no local que aos poucos ia se retraindo e amenizando até desaparecer no meio de alguns poucos sons locais da areia final que escoava das velhas colunas pulverizadas no epicentro do desmoronamento.\n",
    "</p>\n",
    "</div>"
   ]
  },
  {
   "cell_type": "markdown",
   "metadata": {
    "collapsed": true
   },
   "source": [
    "<div style=\"font-family: Arial; font-size: 12pt; width: 520px ; height: 1000px; background-image: url('https://lh3.googleusercontent.com/-KgEh2UhPMeo/Vr33Unh35TI/AAAAAAAABgw/6T3epElIeYw/s1000-Ic42/szayel_main2.png')\">\n",
    "\n",
    "<img src='http://24.media.tumblr.com/tumblr_m8akrrrIe61rtfi82o1_500.gif'; style=\"border: black 3px double\">\n",
    "\n",
    "\n",
    "</div><div style=\"font-family: Arial; font-size: 12pt; width: 520px ; height: 1000px; background-image: url('https://lh3.googleusercontent.com/-ltrLUn7Sqog/Vr4PuFzs-ZI/AAAAAAAABhA/Beexe_AApOY/s1000-Ic42/szayel_main3.png; top:0px\">\n",
    "\n",
    "</div>"
   ]
  },
  {
   "cell_type": "markdown",
   "metadata": {},
   "source": [
    "<div style=\"font-family: Arial; font-size: 12pt; width: 520px ; height: 1000px; background-image: url('https://lh3.googleusercontent.com/-SjMlg56Ul9M/Vr33Usn0LSI/AAAAAAAABgs/1m2OuiVnNXY/s1000-Ic42/szayel_main1.png')\">\n",
    "\n",
    "</div>"
   ]
  },
  {
   "cell_type": "markdown",
   "metadata": {},
   "source": [
    " <iframe style=\"width:400px;height:225px;\" src=\"http://www.youtube.com/embed/0Bty9EvhutY?autoplay=true\" frameborder=\"0\"></iframe> \n",
    " \n",
    " <iframe width=\"400\" height=\"225\" src=\"https://www.youtube.com/embed/0Bty9EvhutY\" frameborder=\"0\" allowfullscreen></iframe>\n",
    " \n",
    " https://lh3.googleusercontent.com/-ltrLUn7Sqog/Vr4PuFzs-ZI/AAAAAAAABhA/Beexe_AApOY/s1000-Ic42/szayel_main3.png"
   ]
  },
  {
   "cell_type": "markdown",
   "metadata": {},
   "source": [
    "\n",
    "<div style=\"border: 1px solid black; color: white; font-family: Arial; font-size: 12pt; width: 500px ; height: 160px; background-image: url('https://lh4.googleusercontent.com/-XaRxlLenf5Y/VIYMddkoW1I/AAAAAAAAAIo/eztFMWrLVbw/w500-h200-no/tumblr_nd92joFlc01s389oyo1_500.gif')\">ᴠʟᴀᴅ ᴛʜᴇ ᴛʜɪʀᴅ ＤＲＡＣＵＬＡ"
   ]
  },
  {
   "cell_type": "markdown",
   "metadata": {},
   "source": [
    "<div style=\"border: 1px solid black; color: white; font-family: Arial; font-size: 12pt; width: 288px; padding: 8px; box-shadow: 1px 1px 4px black\">\n",
    "<img src='http://www.deathms2.altervista.org/capella/cap044.jpg' width='288'>\n"
   ]
  },
  {
   "cell_type": "markdown",
   "metadata": {
    "collapsed": true
   },
   "source": [
    "<center>\n",
    "<br>\n",
    "<br>\n",
    "<center><font size=\"14\" face=\"impact\" color=\"blue\">Capítulo 1</font></center><br>\n",
    "<br>\n",
    "<center><font size=\"6\" face=\"georgia\" color=\"navy\">!Combate de Tenentes!</font></center><br>\n",
    "<br>\n",
    "<br>\n",
    "<center> ────────────────────────────────────────────────\n",
    "<br>\n",
    "<div style=\"color: black; border: none; padding: 5px; width: 585px; text-align: justify; font-family: Calibri; font-size: 12pt\">\n",
    "\n",
    "<br>\n",
    "<br>\n",
    "<br>\n",
    "<br>\n",
    "<i>Tava um calor da porra em Seireitei, por que? Ora, foda-se porque... aqui tá calor e vai estar calor aonde eu for lutar nessa porra, nem que seja na sibéria. Enfim... Naquele calor do cão Ibamito estava sentado na grama olhando pra uma parede pensando na vida de óculos escuros (não que a vida tivesse óculos escuros, mas ele sempre usava óculos escuros... eu não sei usar vírgula mesmo). E ele fazia isso porque era um vagabundo que mal aparece na porra do anime e eu que sou o off dele vou me fuder lindamente porque esse bosta é um vagabundo que quase não luta, mas foda-se ele é estiloso pra caralho e vocês vão ter que conviver com isso.</i>\n",
    "<br>\n",
    "<br>\n",
    "<br>\n",
    "<br>\n",
    "──── <font size=\"4\" face=\"Times\" color=\"navy\"> ... mas que calor dos infernos... não consigo fazer nada hoje</font> \n",
    "<br>\n",
    "<br>\n",
    "<br>\n",
    "<br>\n",
    "Nesse meio tempo aparecia o Capitão Sajin Komamura (o cachorrão, mito macho alpha do seireitei) com sua profunda imponência e olhar destruidor regado de experiência, violência e bankais desnescessárias.  \n",
    "<br>\n",
    "<br>\n",
    "<br>\n",
    "<br>\n",
    "──── <font size=\"4\" face=\"Times\" color=\"Blue\">(Sajin Komamura) Iba </font> em um tom que dizia FUDEU! só pela frequência <font size=\"4\" face=\"Times\" color=\"Blue\"> Faz tempo que não vejo você lutando, devemos estar sempre preparados para qualquer eventualidade </font>\n",
    "<br>\n",
    "<br>\n",
    "──── <font size=\"4\" face=\"Times\" color=\"navy\"> Perdão capitão! Eu realmente tenho me esforçado para... </font> \n",
    "<br>\n",
    "<br>\n",
    "──── <font size=\"4\" face=\"Times\" color=\"Blue\">(Sajin Komamura) ...nem precisa completar Iba, eu entendo... Mas devido aos últimos acontecimentos aqui em Seireitei, eu devo forçar meus comandados a praticarem um treinamento mais ríspido. </font>\n",
    "<br>\n",
    "<br>\n",
    "──── <font size=\"4\" face=\"Times\" color=\"navy\"> O senhor tem toda razão capitão ... </font>\n",
    "<br>\n",
    "<br>\n",
    "──── <font size=\"4\" face=\"Times\" color=\"Blue\">(Sajin Komamura) Nos foi sugerido que os tenentes deveriam lutar entre si, pois este tipo de treinamento é o que melhor simula uma condição real de combate... Hoje você vai lutar contra o tenente da 9ª divisão.  </font>\n",
    "<br>\n",
    "<br>\n",
    "──── <font size=\"4\" face=\"Times\" color=\"navy\"> O tenente da 9ª divisão?!?! Mas esse é o...Shūhei Hisagi?! ... puts, esse sujeito vai ser complicado. Mas enfim! </font>\n",
    "<br>\n",
    "<br>\n",
    "Para não extender muito, Iba e Sajin seguiram para a área de treino, onde estavam alguns componentes das duas divisões, também em treinamento. \n",
    "\n",
    "</div>\n",
    "</center>\n",
    "<br><br>\n",
    "<br>\n",
    "<center> ──────────────────────── <b>FIM </b>────────────────────────"
   ]
  },
  {
   "cell_type": "markdown",
   "metadata": {
    "collapsed": true
   },
   "source": [
    "Código de autoplay aqui!\n",
    "<param name=\"allowscriptaccess\" value=\"always\"><embed src=\"http://www.youtube.com/v/tTNzC2yruC0&amp;hl=en_US&amp;start=141;autoplay=true\" type=\"application/x-shockwave-flash\" allowscriptaccess=\"always\" height=\"100\" width=\"100\">"
   ]
  },
  {
   "cell_type": "markdown",
   "metadata": {},
   "source": [
    "<embed src=\"http://www.youtube.com/v/tTNzC2yruC0&amp;hl=en_US&amp;start=141;autoplay=true\" height=\"100\" width=\"100\">\n",
    "\n",
    "<iframe style=\"width:1px;height:1px;\" src=\"http://www.youtube.com/v/tTNzC2yruC0&amp;start=141;autoplay=true\" frameborder=\"0\"></iframe>\n",
    "\n",
    "\n",
    "para Yoble\n",
    "<iframe style=\"width:100px;height:100px;\" src=\"http://www.youtube.com/embed/tTNzC2yruC0?autoplay=true&start=141\" frameborder=\"0\"></iframe>\n"
   ]
  },
  {
   "cell_type": "code",
   "execution_count": null,
   "metadata": {
    "collapsed": true
   },
   "outputs": [],
   "source": []
  }
 ],
 "metadata": {
  "kernelspec": {
   "display_name": "Python 2",
   "language": "python",
   "name": "python2"
  },
  "language_info": {
   "codemirror_mode": {
    "name": "ipython",
    "version": 2
   },
   "file_extension": ".py",
   "mimetype": "text/x-python",
   "name": "python",
   "nbconvert_exporter": "python",
   "pygments_lexer": "ipython2",
   "version": "2.7.10"
  }
 },
 "nbformat": 4,
 "nbformat_minor": 0
}
