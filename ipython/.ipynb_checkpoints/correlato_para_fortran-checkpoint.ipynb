{
 "metadata": {
  "name": "",
  "signature": "sha256:5142ac07f9a5c9d634a55e6e350d9112957f12e34b86f3e22bda5ff46ca69354"
 },
 "nbformat": 3,
 "nbformat_minor": 0,
 "worksheets": []
}