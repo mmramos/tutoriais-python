{
 "cells": [
  {
   "cell_type": "code",
   "execution_count": 1,
   "metadata": {
    "collapsed": false
   },
   "outputs": [],
   "source": [
    "%matplotlib inline\n",
    "import numpy as np\n",
    "import scipy as sp\n",
    "from scipy import misc\n",
    "import matplotlib.pyplot as plt\n",
    "\n",
    "# no 'mode' usar:\n",
    "#* 'L' (8-bit pixels, black and white)\n",
    "#* 'P' (8-bit pixels, mapped to any other mode using a color palette)\n",
    "#* 'RGB' (3x8-bit pixels, true color)\n",
    "#* 'RGBA' (4x8-bit pixels, true color with transparency mask)\n",
    "#* 'CMYK' (4x8-bit pixels, color separation)\n",
    "#* 'YCbCr' (3x8-bit pixels, color video format)\n",
    "#* 'I' (32-bit signed integer pixels)\n",
    "#* 'F' (32-bit floating point pixels)"
   ]
  },
  {
   "cell_type": "code",
   "execution_count": 2,
   "metadata": {
    "collapsed": false
   },
   "outputs": [
    {
     "name": "stdout",
     "output_type": "stream",
     "text": [
      "(60, 300)\n"
     ]
    },
    {
     "data": {
      "image/png": "[encoded data removed]",
      "text/plain": [
       "<matplotlib.figure.Figure at 0xae7d0dec>"
      ]
     },
     "metadata": {},
     "output_type": "display_data"
    }
   ],
   "source": [
    "ma = misc.imread('2.png',mode='F') \n",
    "print(ma.shape)\n",
    "\n",
    "plt.matshow(ma)\n",
    "plt.colorbar()\n",
    "plt.show()"
   ]
  },
  {
   "cell_type": "code",
   "execution_count": null,
   "metadata": {
    "collapsed": true
   },
   "outputs": [],
   "source": []
  }
 ],
 "metadata": {
  "kernelspec": {
   "display_name": "Python 3",
   "language": "python",
   "name": "python3"
  },
  "language_info": {
   "codemirror_mode": {
    "name": "ipython",
    "version": 3
   },
   "file_extension": ".py",
   "mimetype": "text/x-python",
   "name": "python",
   "nbconvert_exporter": "python",
   "pygments_lexer": "ipython3",
   "version": "3.5.1"
  }
 },
 "nbformat": 4,
 "nbformat_minor": 0
}
