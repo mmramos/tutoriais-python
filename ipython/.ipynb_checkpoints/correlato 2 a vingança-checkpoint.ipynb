{
 "metadata": {
  "name": "",
  "signature": "sha256:76f259e2f5aee1828efac91f119e35cad521dffbdb7afe382a2f8622f796f44b"
 },
 "nbformat": 3,
 "nbformat_minor": 0,
 "worksheets": [
  {
   "cells": [
    {
     "cell_type": "code",
     "collapsed": false,
     "input": [
      "%matplotlib inline\n",
      "import numpy as np\n",
      "import matplotlib.pyplot as plt\n",
      "from matplotlib.pylab import *"
     ],
     "language": "python",
     "metadata": {},
     "outputs": [],
     "prompt_number": 1
    },
    {
     "cell_type": "code",
     "collapsed": false,
     "input": [
      "h = 100\n",
      "\n",
      "ha1 = int((h*30)/100)\n",
      "ha2 = int((h*60)/100)\n",
      "ha3 = int(h -ha1 -ha2)\n",
      "\n",
      "ma1 = [1]*ha1\n",
      "ma2 = [2]*ha2\n",
      "ma3 = [3]*ha3\n",
      "\n",
      "a = np.array(ma1+ma2+ma3)\n",
      "print 'a =',a\n",
      "\n",
      "#______________________________________________________________\n",
      "\n",
      "hb1 = int((h*20)/100)\n",
      "hb2 = int((h*30)/100)\n",
      "hb3 = int(h -hb1 -hb2)\n",
      "\n",
      "mb1 = [1]*hb1\n",
      "mb2 = [2]*hb2\n",
      "mb3 = [3]*hb3\n",
      "\n",
      "b = np.array(mb1+mb2+mb3)\n",
      "print 'b =',b"
     ],
     "language": "python",
     "metadata": {},
     "outputs": [
      {
       "output_type": "stream",
       "stream": "stdout",
       "text": [
        "a = [1 1 1 1 1 1 1 1 1 1 1 1 1 1 1 1 1 1 1 1 1 1 1 1 1 1 1 1 1 1 2 2 2 2 2 2 2\n",
        " 2 2 2 2 2 2 2 2 2 2 2 2 2 2 2 2 2 2 2 2 2 2 2 2 2 2 2 2 2 2 2 2 2 2 2 2 2\n",
        " 2 2 2 2 2 2 2 2 2 2 2 2 2 2 2 2 3 3 3 3 3 3 3 3 3 3]\n",
        "b = [1 1 1 1 1 1 1 1 1 1 1 1 1 1 1 1 1 1 1 1 2 2 2 2 2 2 2 2 2 2 2 2 2 2 2 2 2\n",
        " 2 2 2 2 2 2 2 2 2 2 2 2 2 3 3 3 3 3 3 3 3 3 3 3 3 3 3 3 3 3 3 3 3 3 3 3 3\n",
        " 3 3 3 3 3 3 3 3 3 3 3 3 3 3 3 3 3 3 3 3 3 3 3 3 3 3]\n"
       ]
      }
     ],
     "prompt_number": 2
    },
    {
     "cell_type": "code",
     "collapsed": false,
     "input": [
      "l = 100\n",
      "c = len(a)\n",
      "\n",
      "shape = (c,l)\n",
      "s = np.zeros(shape)\n",
      "\n",
      "s[:,0]   = a\n",
      "s[:,l-1] = b\n",
      "\n",
      "top = [a[0]]*l\n",
      "bas = [a[len(a)-1]]*l\n",
      "\n",
      "s[0,:] = top\n",
      "s[c-1,:] = bas\n",
      "\n",
      "print s\n",
      "#print s[0,:] #primeira linha\n",
      "#print s[:,0] #primeira coluna"
     ],
     "language": "python",
     "metadata": {},
     "outputs": [
      {
       "output_type": "stream",
       "stream": "stdout",
       "text": [
        "[[ 1.  1.  1. ...,  1.  1.  1.]\n",
        " [ 1.  0.  0. ...,  0.  0.  1.]\n",
        " [ 1.  0.  0. ...,  0.  0.  1.]\n",
        " ..., \n",
        " [ 3.  0.  0. ...,  0.  0.  3.]\n",
        " [ 3.  0.  0. ...,  0.  0.  3.]\n",
        " [ 3.  3.  3. ...,  3.  3.  3.]]\n"
       ]
      }
     ],
     "prompt_number": 4
    },
    {
     "cell_type": "code",
     "collapsed": false,
     "input": [
      "s2 = s\n",
      "s3 = s\n",
      "\n",
      "t =100\n",
      "\n",
      "for k in range (t):\n",
      "    for j in range (1,l-1):\n",
      "        for i in range(1,c-1):\n",
      "            s3[i,j] = (s2[i-1,j]+s2[i+1,j]+s2[i,j-1]+s2[i,j+1])*0.25\n",
      "    s3 = s2\n",
      "    \n",
      "print s3"
     ],
     "language": "python",
     "metadata": {},
     "outputs": [
      {
       "output_type": "stream",
       "stream": "stdout",
       "text": [
        "[[ 1.          1.          1.         ...,  1.          1.          1.        ]\n",
        " [ 1.          0.99995477  0.99990641 ...,  1.00191146  1.00096924  1.        ]\n",
        " [ 1.          0.99991638  0.99982638 ...,  1.00387968  1.00196758  1.        ]\n",
        " ..., \n",
        " [ 3.          2.98252753  2.96613418 ...,  2.9929932   2.99649597  3.        ]\n",
        " [ 3.          2.99150392  2.98349105 ...,  2.99649722  2.9982483   3.        ]\n",
        " [ 3.          3.          3.         ...,  3.          3.          3.        ]]\n"
       ]
      }
     ],
     "prompt_number": 8
    },
    {
     "cell_type": "code",
     "collapsed": false,
     "input": [
      "s4 = np.round(s3)\n",
      "print s4"
     ],
     "language": "python",
     "metadata": {},
     "outputs": [
      {
       "output_type": "stream",
       "stream": "stdout",
       "text": [
        "[[ 1.  1.  1. ...,  1.  1.  1.]\n",
        " [ 1.  1.  1. ...,  1.  1.  1.]\n",
        " [ 1.  1.  1. ...,  1.  1.  1.]\n",
        " ..., \n",
        " [ 3.  3.  3. ...,  3.  3.  3.]\n",
        " [ 3.  3.  3. ...,  3.  3.  3.]\n",
        " [ 3.  3.  3. ...,  3.  3.  3.]]\n"
       ]
      }
     ],
     "prompt_number": 9
    },
    {
     "cell_type": "code",
     "collapsed": false,
     "input": [
      "matshow(s4)\n",
      "colorbar()\n",
      "show()"
     ],
     "language": "python",
     "metadata": {},
     "outputs": [
      {
       "metadata": {},
       "output_type": "display_data",
       "png": "[encoded data removed]",
       "text": [
        "<matplotlib.figure.Figure at 0xb14f242c>"
       ]
      }
     ],
     "prompt_number": 10
    },
    {
     "cell_type": "code",
     "collapsed": false,
     "input": [],
     "language": "python",
     "metadata": {},
     "outputs": []
    }
   ],
   "metadata": {}
  }
 ]
}