{
 "metadata": {
  "name": "",
  "signature": "sha256:c749e9d4ecdd960d7f01eee73218ab800a2c12df7586113fac82f55dda883f04"
 },
 "nbformat": 3,
 "nbformat_minor": 0,
 "worksheets": [
  {
   "cells": [
    {
     "cell_type": "markdown",
     "metadata": {},
     "source": [
      "<center><font face=\"Times New ROman\" size=\"10\" color=\"#000080\">- Perfil Densidade -</font></center>\n",
      "<br>\n",
      "<br><center><font face=\"Times New ROman\" size=\"6\" color=\"#000000\">- Introdu\u00e7\u00e3o -</font>"
     ]
    },
    {
     "cell_type": "markdown",
     "metadata": {},
     "source": [
      "-registra a varia\u00e7\u00e3o das <i>densidades</i> das camadas com a profundidade. \n",
      "<br>-bombardeio das camadas por um feixe monoenerg\u00e9tico de raios gama (fonte de Cs<sup>137</sup>)\n",
      "<br>Nota: <i>se\u00e7\u00e3o eficaz</i> (1barn = 10<sup>-24</sup> cm) seria o di\u00e2metro aparente de um n\u00facleo a ser atingido"
     ]
    },
    {
     "cell_type": "markdown",
     "metadata": {},
     "source": [
      "<b>As tr\u00eas intera\u00e7\u00f5es do raio gama:</b>\n",
      "<br><b>-Produ\u00e7\u00e3o de Par </b>podem ser absorvido e um par el\u00e9tron-p\u00f3sitron \u00e9 produzido em contrapartida - \u00e9 o efeito de Produ\u00e7\u00e3o de Par e requer <i>radia\u00e7\u00e3o gama de alto n\u00edvel</i>.\n",
      "<br><b>-Efeito Fotoel\u00e9trico </b>podem ser absorvidos por por um el\u00e9tron, deslocando-o de sua \u00f3rbita normal\n",
      "<br><b>-Efeito Compton </b>raios gama podem ser defletidos pelos el\u00e9trons, aos quais cede parte da energia"
     ]
    },
    {
     "cell_type": "markdown",
     "metadata": {},
     "source": [
      "<br><center>$I_f = I_i.e^{-\\mu.x.\\rho_e}$</center>\n",
      "<br> onde: \n",
      "<br> $I_i$ \u00e9 o fluxo inicial de f\u00f3tons\n",
      "<br> $I_f$ \u00e9 o fluxo final de f\u00f3tons\n",
      "<br> $\\mu$ \u00e9 o coeficiente de absor\u00e7\u00e3o de massa do material alvo\n",
      "<br> $x$ \u00e9 a espessura do material\n",
      "<br> $\\rho_e$ \u00e9 a densidade eletr\u00f4nica do material\n",
      "<br>\n",
      "<br><center>$\\rho_e = 2(\\frac{Z}{A})\\rho_B$ </center>\n",
      "<br>onde:\n",
      "<br> $Z$ \u00e9 o n\u00famero at\u00f4mico\n",
      "<br> $A$ \u00e9 a massa at\u00f4mica\n",
      "<br> $\\rho_b$ \u00e9 a densidade do material\n",
      "<br>\n",
      "<br>nota: $C = 2(\\frac{Z}{A})$  logo  $\\rho_e = C.\\rho_B$"
     ]
    },
    {
     "cell_type": "code",
     "collapsed": false,
     "input": [
      "ASi = 28.090 #massa atomica silicio\n",
      "ZSi = 14 # numero atomico silicio\n",
      "PbSi = 2.329 #densidade silicio\n",
      "\n",
      "PeSi = 2*(ZSi/ASi)*PbSi\n",
      "\n",
      "print PeSi,'g/cm3 densidade eletr\u00f4nica do sil\u00edcio'\n",
      "print PbSi,'g/cm3 densidade do sil\u00edcio'"
     ],
     "language": "python",
     "metadata": {},
     "outputs": [
      {
       "output_type": "stream",
       "stream": "stdout",
       "text": [
        "2.32153791385 g/cm3 densidade eletr\u00f4nica do sil\u00edcio\n",
        "2.329 g/cm3 densidade do sil\u00edcio\n"
       ]
      }
     ],
     "prompt_number": 3
    },
    {
     "cell_type": "markdown",
     "metadata": {},
     "source": [
      "\n",
      "<br><center><font face=\"Times New ROman\" size=\"6\" color=\"#000000\">- Aplica\u00e7\u00e3o do M\u00e9todo -</font>"
     ]
    },
    {
     "cell_type": "markdown",
     "metadata": {},
     "source": [
      "<br><center><big>$\\rho_{densidade} = \\rho_{eLS} (\\frac{\\rho_{mLS} - \\rho_w}{\\rho_{mLS}-\\rho_w.C_w})+(\\frac{\\rho_{mLS}.\\rho_w(CLS - CW)}{\\rho_{mLS}.CLS-\\rho_w.C_w})$ </big></center>"
     ]
    },
    {
     "cell_type": "code",
     "collapsed": false,
     "input": [
      "# para um calcario saturado com agua doce\n",
      "pmls = 2.710 # densidade da calcita\n",
      "pels = 2.708 # densidade eletronica da calcita\n",
      "pw = 1.000 # densidade da agua doce\n",
      "\n",
      "Cw = 1.1101  # C da agua\n",
      "CLS = 0.9991 # C da Calcita\n",
      "\n",
      "\n",
      "\n",
      "PD = pels*((pmls-pw)/(pmls-(pw*Cw)))+(((pmls*pw)*(CLS-Cw))/((pmls*CLS) - (pw*Cw))) # densidade final\n",
      "print PD,'g/cm3','| com porosidade saturada com agua doce'\n",
      "print pmls,'g/cm3','| sem porosidade'\n",
      "\n",
      "zas = ((pmls-pw)/(pmls-(pw*Cw)))\n",
      "zas2 = (((pmls*pw)*(CLS-Cw))/((pmls*CLS) - (pw*Cw)))\n",
      "print '(',zas,'. pels',')',zas2"
     ],
     "language": "python",
     "metadata": {},
     "outputs": [
      {
       "output_type": "stream",
       "stream": "stdout",
       "text": [
        "2.70605083064 g/cm3 | com porosidade saturada com agua doce\n",
        "2.71 g/cm3 | sem porosidade\n",
        "( 1.06881680105 . pels ) -0.188305066603\n"
       ]
      }
     ],
     "prompt_number": 37
    },
    {
     "cell_type": "markdown",
     "metadata": {},
     "source": [
      "<br><center><font face=\"Times New ROman\" size=\"6\" color=\"#000000\">- Interpreta\u00e7\u00e3o do Perfil -</font>"
     ]
    },
    {
     "cell_type": "markdown",
     "metadata": {},
     "source": [
      "<center>$ \\rho_B = (1-\\phi).\\rho_m + \\phi.\\rho_f$\n",
      "<br>\n",
      "<br>logo $\\phi = \\frac{\\rho_m - \\rho_B}{\\rho_m - \\rho_f}$</center>\n",
      "<br>onde: \n",
      "<br>$\\phi$ \u00e9 a porosidade\n",
      "<br>$\\rho_B$ \u00e9 a densidade medida no perfil\n",
      "<br>$\\rho_m$ \u00e9 a densidade da matriz da rocha\n",
      "<br>$\\rho_f$ \u00e9 a densidade do flu\u00eddo"
     ]
    },
    {
     "cell_type": "code",
     "collapsed": false,
     "input": [
      "pB = 2.522 # densidade medida no perfil\n",
      "pM = 2.654 # densidade do quartzo\n",
      "pa = 1.146 # densidade da \u00e1gua salgada (fluido unico)\n",
      "\n",
      "phi = (pM - pB)/(pM - pa)\n",
      "print phi*100,'% porosidade crua'"
     ],
     "language": "python",
     "metadata": {},
     "outputs": [
      {
       "output_type": "stream",
       "stream": "stdout",
       "text": [
        "8.75331564987 % porosidade crua\n"
       ]
      }
     ],
     "prompt_number": 45
    },
    {
     "cell_type": "code",
     "collapsed": false,
     "input": [
      "Sxo = 0.65 # satura\u00e7\u00e3o do flu\u00eddo = 40% de hidrocarbonetos e 60% de agua\n",
      "phc = 0.8 # densidade do hidrocarboneto em g/cm3\n",
      "\n",
      "pF = ((1 - Sxo)*phc) + (Sxo*pa)\n",
      "print pF,'densidade de todos os flu\u00eddos'"
     ],
     "language": "python",
     "metadata": {},
     "outputs": [
      {
       "output_type": "stream",
       "stream": "stdout",
       "text": [
        "1.0249 densidade de todos os flu\u00eddos\n"
       ]
      }
     ],
     "prompt_number": 63
    },
    {
     "cell_type": "code",
     "collapsed": false,
     "input": [
      "phi2 = (pM - pB)/(pM - pF) \n",
      "print phi2*100,'% porosidade com saturacao de hidrocarbonetos'"
     ],
     "language": "python",
     "metadata": {},
     "outputs": [
      {
       "output_type": "stream",
       "stream": "stdout",
       "text": [
        "8.10263335584 % porosidade com saturacao de hidrocarbonetos\n"
       ]
      }
     ],
     "prompt_number": 64
    },
    {
     "cell_type": "markdown",
     "metadata": {},
     "source": [
      "ver porosidade no sonico"
     ]
    },
    {
     "cell_type": "code",
     "collapsed": false,
     "input": [],
     "language": "python",
     "metadata": {},
     "outputs": []
    }
   ],
   "metadata": {}
  }
 ]
}