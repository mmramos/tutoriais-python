{
 "metadata": {
  "name": "",
  "signature": "sha256:25bb8aa56278e6467423932661503b4122b08ffd9e0c11cdf2e618f97aee355f"
 },
 "nbformat": 3,
 "nbformat_minor": 0,
 "worksheets": [
  {
   "cells": [
    {
     "cell_type": "code",
     "collapsed": false,
     "input": [
      "%load metodos_potenciais_001.py"
     ],
     "language": "python",
     "metadata": {},
     "outputs": [],
     "prompt_number": 1
    },
    {
     "cell_type": "code",
     "collapsed": false,
     "input": [
      "#____________________[22/10/2014]________________________\n",
      "#\n",
      "# Observat\u00f3rio Nacional - Geof\u00edsica - Metodos Potenciais\n",
      "#\n",
      "# Mario Martins Ramos\n",
      "#\n",
      "# \n",
      "# \n",
      "\n",
      "import numpy as np\n",
      "import matplotlib.pyplot as plt\n",
      "import math\n",
      "\n",
      "T = np.linspace(-1,1,100)\n",
      "t = np.array(T)\n",
      "\n",
      "color = '0.75'\n",
      "\n",
      "P0 = np.array([1]*len(T))\n",
      "P1 = t\n",
      "#P2 = (1/2)*((3*t**2)-1)\n",
      "P2 = 1.5**t**2-0.5\n",
      "#P3 = (5/12)*(t**3)-(3/2)*t\n",
      "P3 = (5/2)*(t**3)-(3/2)*t\n",
      "P4 = (35/8)*(t**4)-(15/4)*(t**2)+(3/8)\n",
      "P5 = (63/8)*(t**5)-(35/4)*(t**3)+(15/8)*t\n",
      "P6 = (231/16)*(t**6)-(315/16)*(t**4)+(105/16)*(t**2)-(5/16)\n",
      "P7 = (429/16)*(t**7)-(693/16)*(t**5)+(315/16)*(t**3)-(35/16)*t\n",
      "\n",
      "plt.plot(t,P0,'k-')\n",
      "plt.plot(t,P1,'b-')\n",
      "plt.plot(t,P2,'g-')\n",
      "plt.plot(t,P3,'y-')\n",
      "plt.plot(t,P4,'r-')\n",
      "plt.plot(t,P5,'c-')\n",
      "plt.plot(t,P6,'m-')\n",
      "plt.plot(t,P7,'k-')\n",
      "plt.show()\n",
      "\n",
      "\n",
      "#...........\n",
      "#...................__\n",
      "#............./\u00b4\u00af/'...'/\u00b4\u00af\u00af`\u00b7\u00b8\n",
      "#........../'/.../..../......./\u00a8\u00af\\\n",
      "#........('(...\u00b4...\u00b4.... \u00af /'...')\n",
      "#.........\\.................'...../\n",
      "#..........''...\\.......... _.\u00b7\u00b4\n",
      "#............\\..............(\n",
      "#PUNHO DOS BROTHERS\n",
      "\n",
      "#SE VC NAO POSTAR ISSO PRA 5 BROTHERS AI VC NAO EH BROTHER\n"
     ],
     "language": "python",
     "metadata": {},
     "outputs": [],
     "prompt_number": 4
    },
    {
     "cell_type": "code",
     "collapsed": false,
     "input": [],
     "language": "python",
     "metadata": {},
     "outputs": []
    }
   ],
   "metadata": {}
  }
 ]
}