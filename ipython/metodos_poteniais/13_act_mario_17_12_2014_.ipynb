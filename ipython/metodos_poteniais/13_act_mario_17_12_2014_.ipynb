{
 "metadata": {
  "name": "",
  "signature": "sha256:fc32b311de60deaff9e29595bfa82d64129cce70bb4ab7cf77937b0c626eda2e"
 },
 "nbformat": 3,
 "nbformat_minor": 0,
 "worksheets": [
  {
   "cells": [
    {
     "cell_type": "code",
     "collapsed": false,
     "input": [
      "%matplotlib inline\n",
      "import numpy as np\n",
      "import matplotlib.pyplot as plt\n",
      "from random import randrange\n",
      "\n",
      "# Mario Martins Ramos\n",
      "# Metodos potenciais\n",
      "# Exercicio para tensor\n",
      "\n",
      "\n",
      "# B = campo da anomalia local\n",
      "# T = campo da terra\n",
      "\n",
      "# \u0394T1 = ||T+B||-||T||\n",
      "# \u0394T2 (aproximado) TtB\n",
      "\n",
      "\n",
      "############### B campo #######################\n",
      "TB = (randrange(10)*10*np.pi)/180 # teta de B\n",
      "LB = (randrange(10)*10*np.pi)/180 # lambda de B\n",
      "\n",
      "print TB,\" = teta de B\",LB,\" = lambda de B\"\n",
      "\n",
      "BM = 132"
     ],
     "language": "python",
     "metadata": {},
     "outputs": [
      {
       "output_type": "stream",
       "stream": "stdout",
       "text": [
        "1.3962634016  = teta de B 1.0471975512  = lambda de B\n"
       ]
      }
     ],
     "prompt_number": 7
    },
    {
     "cell_type": "markdown",
     "metadata": {},
     "source": [
      "Pelo o que eu entendi, a c\u00e9lula abaixo deveria gerar um vetor unit\u00e1rio, certo? A f\u00f3rmula para gerar um vetor unit\u00e1rio em um sistema de coordenadas Cartesianas local, com $x$ apontando para o norte, $y$ para o leste e $z$ para baixo \u00e9 a seguinte:"
     ]
    },
    {
     "cell_type": "markdown",
     "metadata": {},
     "source": [
      "$\\mathbf{B} = \n",
      "\\left[ \n",
      "\\begin{array}{c}\n",
      "cos(I) \\, cos(D) \\\\\n",
      "cos(I) \\, sen(D) \\\\\n",
      "sen(I)\n",
      "\\end{array}\n",
      "\\right]$ ,"
     ]
    },
    {
     "cell_type": "markdown",
     "metadata": {},
     "source": [
      "em que $D$ e $I$ s\u00e3o, respectivamente, a declina\u00e7\u00e3o e a inclina\u00e7\u00e3o do versor. **Cheque se voc\u00ea gerou os vetores unit\u00e1rios de acordo com a express\u00e3o acima**."
     ]
    },
    {
     "cell_type": "code",
     "collapsed": false,
     "input": [
      "BC = np.array([[np.sin(TB)*np.cos(LB)],[np.sin(TB)*np.sin(LB)],[np.cos(TB)]])"
     ],
     "language": "python",
     "metadata": {},
     "outputs": [],
     "prompt_number": 8
    },
    {
     "cell_type": "code",
     "collapsed": false,
     "input": [
      "B = BM*BC\n",
      "print B,\"B\"\n",
      "\n",
      "print \"_________________________________________________________\"\n",
      "\n",
      "############### T terra #######################\n",
      "TT = (randrange(10)*10*np.pi)/180 # teta de T\n",
      "LT = (randrange(10)*10*np.pi)/180 # lambda de T\n",
      "\n",
      "TC = np.array([[np.sin(TT)*np.cos(LT)],[np.sin(TT)*np.sin(LT)],[np.cos(TT)]])\n",
      "print TT,\" = teta de T\",LT,\" = lambda de T\"\n",
      "print TC,'versorr de T'\n",
      "\n",
      "\n",
      "TTT1 = []\n",
      "TTT2 = []\n",
      "TTTF = []\n",
      "\n",
      "\n",
      "for i in range (1,10000,100):\n",
      "\n",
      "    TM = i\n",
      "    TC = np.array([[np.sin(TT)*np.cos(LT)],[np.sin(TT)*np.sin(LT)],[np.cos(TT)]])\n",
      "    T = TM*TC\n",
      "    #print T,\"T\"\n",
      "\n",
      "    BT = B+T\n",
      "    #print BT\n",
      "    BTsqrt = np.sqrt((BT[0]**2)+(BT[1]**2)+(BT[2]**2))\n",
      "    #print BTsqrt\n",
      "    Tsqrt  = np.sqrt((T[0]**2)+(T[1]**2)+(T[2]**2))\n",
      "    #print Tsqrt\n",
      "    DTB = BTsqrt - Tsqrt\n",
      "    #print DTB\n",
      "    BT = B.T\n",
      "\n",
      "    DTA = np.dot(BT,TC)\n",
      "    #print DTA\n",
      "    TTT1.append(DTB)\n",
      "    TTT2.append(DTA)\n",
      "    #TTTF.append(TM)\n",
      "    TTTF.append(TM/BM)\n",
      "\n",
      "\n",
      "\n",
      "\n",
      "dd2 = np.reshape(TTT2,len(TTTF))\n",
      "\n",
      "plt.figure(figsize=(8,8))\n",
      "plt.plot(TTTF,TTT1,'-r', label='$\\Delta T^{\\, exata}$',\n",
      "         linewidth=2)\n",
      "plt.plot(TTTF,dd2,'-b', label='$\\Delta T^{\\, aprox}$',\n",
      "         linewidth=2)\n",
      "plt.xlabel('$||\\mathbf{T}|| / ||\\mathbf{B}||$', fontsize=18)\n",
      "plt.ylabel('$\\Delta T$', fontsize=18)\n",
      "plt.xticks(fontsize=16)\n",
      "plt.yticks(fontsize=16)\n",
      "plt.legend(loc='best', fontsize=20)\n",
      "plt.show()    "
     ],
     "language": "python",
     "metadata": {},
     "outputs": [
      {
       "output_type": "stream",
       "stream": "stdout",
       "text": [
        "[[  64.9973117 ]\n",
        " [ 112.57864622]\n",
        " [  22.92155945]] B\n",
        "_________________________________________________________\n",
        "0.0  = teta de T 1.2217304764  = lambda de T\n",
        "[[ 0.]\n",
        " [ 0.]\n",
        " [ 1.]] versorr de T\n"
       ]
      },
      {
       "metadata": {},
       "output_type": "display_data",
       "png": "[encoded data removed]",
       "text": [
        "<matplotlib.figure.Figure at 0xb0d1568c>"
       ]
      }
     ],
     "prompt_number": 9
    },
    {
     "cell_type": "code",
     "collapsed": false,
     "input": [],
     "language": "python",
     "metadata": {},
     "outputs": [],
     "prompt_number": 9
    }
   ],
   "metadata": {}
  }
 ]
}