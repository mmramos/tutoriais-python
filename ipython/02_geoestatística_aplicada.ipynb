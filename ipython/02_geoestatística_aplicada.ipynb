{
 "cells": [
  {
   "cell_type": "markdown",
   "metadata": {},
   "source": []
  },
  {
   "cell_type": "code",
   "execution_count": 64,
   "metadata": {
    "collapsed": true
   },
   "outputs": [],
   "source": [
    "%matplotlib inline\n",
    "import numpy as np\n",
    "import matplotlib.pyplot as plt"
   ]
  },
  {
   "cell_type": "code",
   "execution_count": 65,
   "metadata": {
    "collapsed": false
   },
   "outputs": [
    {
     "name": "stdout",
     "output_type": "stream",
     "text": [
      "[[  81.   77.  103.  112.  123.   19.   40.  111.  114.  120.]\n",
      " [  82.   61.  110.  121.  119.   77.   52.  111.  117.  124.]\n",
      " [  82.   74.   97.  105.  112.   91.   73.  115.  118.  129.]\n",
      " [  88.   70.  103.  111.  122.   64.   84.  105.  113.  123.]\n",
      " [  89.   88.   94.  110.  116.  108.   73.  107.  118.  127.]\n",
      " [  77.   82.   86.  101.  109.  113.   79.  102.  120.  121.]\n",
      " [  74.   80.   85.   90.   97.  101.   96.   72.  128.  130.]\n",
      " [  75.   80.   83.   87.   94.   99.   95.   48.  139.  145.]\n",
      " [  77.   84.   74.  108.  121.  143.   91.   52.  136.  144.]\n",
      " [  87.  100.   47.  111.  124.  109.    0.   98.  134.  144.]]\n"
     ]
    }
   ],
   "source": [
    "dado = np.array([[81,77,103,112,123,19,40,111,114,120],[82,61,110,121,119,77,52,111,117,124],[82,74,97,105,112,91,73,115,118,129],[88,70,103,111,122,64,84,105,113,123],[89,88,94,110,116,108,73,107,118,127],[77,82,86,101,109,113,79,102,120,121],[74,80,85,90,97,101,96,72,128,130],[75,80,83,87,94,99,95,48,139,145],[77,84,74,108,121,143,91,52,136,144],[87,100,47,111,124,109,0,98,134,144]],float)\n",
    "print dado"
   ]
  },
  {
   "cell_type": "code",
   "execution_count": 66,
   "metadata": {
    "collapsed": false
   },
   "outputs": [
    {
     "name": "stdout",
     "output_type": "stream",
     "text": [
      "[  81.   77.  103.  112.  123.   19.   40.  111.  114.  120.   82.   61.\n",
      "  110.  121.  119.   77.   52.  111.  117.  124.   82.   74.   97.  105.\n",
      "  112.   91.   73.  115.  118.  129.   88.   70.  103.  111.  122.   64.\n",
      "   84.  105.  113.  123.   89.   88.   94.  110.  116.  108.   73.  107.\n",
      "  118.  127.   77.   82.   86.  101.  109.  113.   79.  102.  120.  121.\n",
      "   74.   80.   85.   90.   97.  101.   96.   72.  128.  130.   75.   80.\n",
      "   83.   87.   94.   99.   95.   48.  139.  145.   77.   84.   74.  108.\n",
      "  121.  143.   91.   52.  136.  144.   87.  100.   47.  111.  124.  109.\n",
      "    0.   98.  134.  144.]\n",
      "100\n"
     ]
    }
   ],
   "source": [
    "dadol = np.reshape(dado,(1,100))\n",
    "dadol2 = np.squeeze(dadol)\n",
    "\n",
    "print dadol2\n",
    "print len(dadol2)"
   ]
  },
  {
   "cell_type": "code",
   "execution_count": 67,
   "metadata": {
    "collapsed": false
   },
   "outputs": [
    {
     "name": "stdout",
     "output_type": "stream",
     "text": [
      "(array([ 1,  1,  0,  0,  3,  2,  2, 13, 16, 11, 13, 17, 13,  4,  4]), array([  0,  10,  20,  30,  40,  50,  60,  70,  80,  90, 100, 110, 120,\n",
      "       130, 140, 150]))\n"
     ]
    },
    {
     "data": {
      "image/png": "[encoded data removed]",
      "text/plain": [
       "<matplotlib.figure.Figure at 0xb07c530c>"
      ]
     },
     "metadata": {},
     "output_type": "display_data"
    }
   ],
   "source": [
    "h1 = np.histogram(dadol2, bins=(0,10,20,30,40,50,60,70,80,90,100,110,120,130,140,150))\n",
    "print h1\n",
    "plt.hist(dadol2, bins=(0,10,20,30,40,50,60,70,80,90,100,110,120,130,140,150))\n",
    "plt.show()"
   ]
  },
  {
   "cell_type": "code",
   "execution_count": null,
   "metadata": {
    "collapsed": true
   },
   "outputs": [],
   "source": []
  }
 ],
 "metadata": {
  "kernelspec": {
   "display_name": "Python 2",
   "language": "python",
   "name": "python2"
  },
  "language_info": {
   "codemirror_mode": {
    "name": "ipython",
    "version": 2
   },
   "file_extension": ".py",
   "mimetype": "text/x-python",
   "name": "python",
   "nbconvert_exporter": "python",
   "pygments_lexer": "ipython2",
   "version": "2.7.9"
  }
 },
 "nbformat": 4,
 "nbformat_minor": 0
}
