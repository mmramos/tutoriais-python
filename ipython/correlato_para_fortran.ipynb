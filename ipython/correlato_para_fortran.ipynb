{
 "cells": [
  {
   "cell_type": "code",
   "execution_count": 53,
   "metadata": {
    "collapsed": false
   },
   "outputs": [],
   "source": [
    "%matplotlib inline\n",
    "import numpy as np\n",
    "import matplotlib.pyplot as plt\n",
    "from matplotlib.pylab import *"
   ]
  },
  {
   "cell_type": "code",
   "execution_count": 54,
   "metadata": {
    "collapsed": false
   },
   "outputs": [
    {
     "name": "stdout",
     "output_type": "stream",
     "text": [
      "[1, 1, 1, 1, 2, 2, 2, 2, 2, 2, 2, 2, 3, 3]\n",
      "[1, 1, 2, 2, 2, 2, 3, 3, 3, 3, 3, 3, 3, 3]\n"
     ]
    }
   ],
   "source": [
    "h = 14\n",
    "\n",
    "ha1 = int((h*30)/100)\n",
    "ha2 = int((h*60)/100)\n",
    "ha3 = int(h -ha1 -ha2)\n",
    "\n",
    "a = [0]*h # criar a como vetor de zeros\n",
    "\n",
    "for i in range (h):\n",
    "    if i <= ha1:\n",
    "        a[i-1] = 1\n",
    "    if i >= ha1 + ha2:\n",
    "        a[i] = 3\n",
    "    if a[i] == 0:\n",
    "        a[i] = 2\n",
    "        \n",
    "print a\n",
    "\n",
    "hb1 = int((h*20)/100)\n",
    "hb2 = int((h*30)/100)\n",
    "hb3 = int(h -hb1 -hb2)\n",
    "\n",
    "b = [0]*h\n",
    "\n",
    "for i in range (h):\n",
    "    if i <= hb1:\n",
    "        b[i-1] = 1\n",
    "    if i >= hb1 + hb2:\n",
    "        b[i] = 3\n",
    "    if b[i] == 0:\n",
    "        b[i] = 2\n",
    "        \n",
    "print b #criar b como vetor de zeros\n",
    "\n"
   ]
  },
  {
   "cell_type": "code",
   "execution_count": 65,
   "metadata": {
    "collapsed": false
   },
   "outputs": [
    {
     "name": "stdout",
     "output_type": "stream",
     "text": [
      "[[ 1.  1.  1.  1.  1.  1.  1.  1.  1.  1.  1.  1.  1.  1.]\n",
      " [ 1.  0.  0.  0.  0.  0.  0.  0.  0.  0.  0.  0.  0.  1.]\n",
      " [ 1.  0.  0.  0.  0.  0.  0.  0.  0.  0.  0.  0.  0.  2.]\n",
      " [ 1.  0.  0.  0.  0.  0.  0.  0.  0.  0.  0.  0.  0.  2.]\n",
      " [ 2.  0.  0.  0.  0.  0.  0.  0.  0.  0.  0.  0.  0.  2.]\n",
      " [ 2.  0.  0.  0.  0.  0.  0.  0.  0.  0.  0.  0.  0.  2.]\n",
      " [ 2.  0.  0.  0.  0.  0.  0.  0.  0.  0.  0.  0.  0.  3.]\n",
      " [ 2.  0.  0.  0.  0.  0.  0.  0.  0.  0.  0.  0.  0.  3.]\n",
      " [ 2.  0.  0.  0.  0.  0.  0.  0.  0.  0.  0.  0.  0.  3.]\n",
      " [ 2.  0.  0.  0.  0.  0.  0.  0.  0.  0.  0.  0.  0.  3.]\n",
      " [ 2.  0.  0.  0.  0.  0.  0.  0.  0.  0.  0.  0.  0.  3.]\n",
      " [ 2.  0.  0.  0.  0.  0.  0.  0.  0.  0.  0.  0.  0.  3.]\n",
      " [ 3.  0.  0.  0.  0.  0.  0.  0.  0.  0.  0.  0.  0.  3.]\n",
      " [ 3.  3.  3.  3.  3.  3.  3.  3.  3.  3.  3.  3.  3.  3.]]\n"
     ]
    }
   ],
   "source": [
    "l = 14 # comprimento da seção, e h é a profundidade\n",
    "\n",
    "s = np.array([[0]*l]*h,float)\n",
    "\n",
    "s[:,0]   = a\n",
    "s[:,l-1] = b\n",
    "\n",
    "for i in range (l):\n",
    "    s[0,i] = a[0]\n",
    "    s[h-1,i] = a[h-1]\n",
    "\n",
    "print s"
   ]
  },
  {
   "cell_type": "code",
   "execution_count": 66,
   "metadata": {
    "collapsed": false
   },
   "outputs": [
    {
     "name": "stdout",
     "output_type": "stream",
     "text": [
      "[[ 1.          1.          1.          1.          1.          1.          1.\n",
      "   1.          1.          1.          1.          1.          1.          1.        ]\n",
      " [ 1.          1.06674049  1.11091228  1.13674656  1.15250449  1.16393049\n",
      "   1.17426282  1.1852883   1.1981126   1.21347185  1.23113118  1.24553902\n",
      "   1.22378317  1.        ]\n",
      " [ 1.          1.15623435  1.24046405  1.28396483  1.30980164  1.32945066\n",
      "   1.34833332  1.36925449  1.39411689  1.42499866  1.465781    1.52741076\n",
      "   1.64966044  2.        ]\n",
      " [ 1.          1.31803485  1.41122718  1.44947192  1.47401002  1.49651207\n",
      "   1.52114436  1.55001781  1.58475949  1.62716884  1.67998898  1.74891442\n",
      "   1.84754038  2.        ]\n",
      " [ 2.          1.70507327  1.63756276  1.62949116  1.6411841   1.66243672\n",
      "   1.69071099  1.72585564  1.76857227  1.81961916  1.8786045   1.94103316\n",
      "   1.99169816  2.        ]\n",
      " [ 2.          1.86515621  1.80518288  1.79067555  1.79986937  1.8224824\n",
      "   1.85455218  1.895203    1.94501449  2.00492095  2.07436131  2.14527313\n",
      "   2.17834211  2.        ]\n",
      " [ 2.          1.95086474  1.92811193  1.9291523   1.94627815  1.97428927\n",
      "   2.0110314   2.05654003  2.11238142  2.1815269   2.26926545  2.38773261\n",
      "   2.57652398  3.        ]\n",
      " [ 2.          2.01069171  2.02802692  2.05254041  2.08294664  2.11858423\n",
      "   2.15996332  2.20869369  2.26746203  2.34037518  2.43405657  2.56024101\n",
      "   2.74014435  3.        ]\n",
      " [ 2.          2.06435196  2.12150205  2.1709786   2.21546535  2.25828808\n",
      "   2.30269338  2.35189206  2.40935554  2.47924029  2.56692195  2.6793789\n",
      "   2.82392502  3.        ]\n",
      " [ 2.          2.12564081  2.22330848  2.29524452  2.35060787  2.39742907\n",
      "   2.44164789  2.48778337  2.53967399  2.60100114  2.67552018  2.76673274\n",
      "   2.87627308  3.        ]\n",
      " [ 2.          2.21525788  2.35139057  2.43677414  2.49508255  2.54001053\n",
      "   2.5795212   2.61870462  2.66124855  2.7101359   2.76783873  2.83600566\n",
      "   2.91450987  3.        ]\n",
      " [ 2.          2.38426733  2.5306274   2.60589184  2.65352233  2.68862816\n",
      "   2.71833739  2.74684269  2.77698788  2.810869    2.84999441  2.89511907\n",
      "   2.945812    3.        ]\n",
      " [ 3.          2.79135307  2.78121175  2.80295911  2.82484437  2.84301909\n",
      "   2.85873065  2.87368928  2.88929639  2.90660468  2.92632864  2.94876669\n",
      "   2.97364467  3.        ]\n",
      " [ 3.          3.          3.          3.          3.          3.          3.\n",
      "   3.          3.          3.          3.          3.          3.          3.        ]]\n"
     ]
    }
   ],
   "source": [
    "s2 = s\n",
    "s3 = s\n",
    "\n",
    "t = 100\n",
    "\n",
    "for k in range (t):\n",
    "    for j in range (1,h-1):\n",
    "        for i in range(1,l-1):\n",
    "            s3[i,j] = (s2[i-1,j]+s2[i+1,j]+s2[i,j-1]+s2[i,j+1])*0.25\n",
    "    s3 = s2\n",
    "    \n",
    "print s3"
   ]
  },
  {
   "cell_type": "code",
   "execution_count": 67,
   "metadata": {
    "collapsed": false
   },
   "outputs": [
    {
     "name": "stdout",
     "output_type": "stream",
     "text": [
      "[[ 1.  1.  1.  1.  1.  1.  1.  1.  1.  1.  1.  1.  1.  1.]\n",
      " [ 1.  1.  1.  1.  1.  1.  1.  1.  1.  1.  1.  1.  1.  1.]\n",
      " [ 1.  1.  1.  1.  1.  1.  1.  1.  1.  1.  1.  2.  2.  2.]\n",
      " [ 1.  1.  1.  1.  1.  1.  2.  2.  2.  2.  2.  2.  2.  2.]\n",
      " [ 2.  2.  2.  2.  2.  2.  2.  2.  2.  2.  2.  2.  2.  2.]\n",
      " [ 2.  2.  2.  2.  2.  2.  2.  2.  2.  2.  2.  2.  2.  2.]\n",
      " [ 2.  2.  2.  2.  2.  2.  2.  2.  2.  2.  2.  2.  3.  3.]\n",
      " [ 2.  2.  2.  2.  2.  2.  2.  2.  2.  2.  2.  3.  3.  3.]\n",
      " [ 2.  2.  2.  2.  2.  2.  2.  2.  2.  2.  3.  3.  3.  3.]\n",
      " [ 2.  2.  2.  2.  2.  2.  2.  2.  3.  3.  3.  3.  3.  3.]\n",
      " [ 2.  2.  2.  2.  2.  3.  3.  3.  3.  3.  3.  3.  3.  3.]\n",
      " [ 2.  2.  3.  3.  3.  3.  3.  3.  3.  3.  3.  3.  3.  3.]\n",
      " [ 3.  3.  3.  3.  3.  3.  3.  3.  3.  3.  3.  3.  3.  3.]\n",
      " [ 3.  3.  3.  3.  3.  3.  3.  3.  3.  3.  3.  3.  3.  3.]]\n"
     ]
    },
    {
     "data": {
      "image/png": "[encoded data removed]",
      "text/plain": [
       "<matplotlib.figure.Figure at 0xb0e3cc2c>"
      ]
     },
     "metadata": {},
     "output_type": "display_data"
    }
   ],
   "source": [
    "s4 = np.round(s3)\n",
    "print s4\n",
    "\n",
    "matshow(s4)\n",
    "colorbar()\n",
    "show()"
   ]
  },
  {
   "cell_type": "code",
   "execution_count": 56,
   "metadata": {
    "collapsed": false
   },
   "outputs": [],
   "source": []
  },
  {
   "cell_type": "code",
   "execution_count": null,
   "metadata": {
    "collapsed": false
   },
   "outputs": [],
   "source": []
  }
 ],
 "metadata": {
  "kernelspec": {
   "display_name": "Python 2",
   "language": "python",
   "name": "python2"
  },
  "language_info": {
   "codemirror_mode": {
    "name": "ipython",
    "version": 2
   },
   "file_extension": ".py",
   "mimetype": "text/x-python",
   "name": "python",
   "nbconvert_exporter": "python",
   "pygments_lexer": "ipython2",
   "version": "2.7.10"
  }
 },
 "nbformat": 4,
 "nbformat_minor": 0
}
