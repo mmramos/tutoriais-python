{
 "cells": [
  {
   "cell_type": "markdown",
   "metadata": {},
   "source": [
    "<center><font face=\"Times New ROman\" size=\"10\" color=\"#000080\">- Python -</font></center>\n",
    "<br>\n",
    "<br><center><font face=\"Times New ROman\" size=\"6\" color=\"#000000\">- Primeiros Programas -</font>"
   ]
  },
  {
   "cell_type": "code",
   "execution_count": 1,
   "metadata": {
    "collapsed": false
   },
   "outputs": [
    {
     "name": "stdout",
     "output_type": "stream",
     "text": [
      "[1, 2, 4, 7, 10, 15, 25]\n",
      "[1, 2, 3, 4, 5, 6, 7]\n"
     ]
    },
    {
     "data": {
      "image/png": "[encoded data removed]",
      "text/plain": [
       "<matplotlib.figure.Figure at 0xb41eb74c>"
      ]
     },
     "metadata": {},
     "output_type": "display_data"
    }
   ],
   "source": [
    "import numpy as np\n",
    "import matplotlib.pyplot as plt\n",
    "\n",
    "a=[1, 2, 4, 7, 10, 15, 25]\n",
    "b=[1, 2, 3, 4, 5, 6, 7]\n",
    "\n",
    "print (a)\n",
    "print (b)\n",
    "\n",
    "plt.plot(b, a)\n",
    "plt.show()"
   ]
  },
  {
   "cell_type": "code",
   "execution_count": 2,
   "metadata": {
    "collapsed": false
   },
   "outputs": [
    {
     "name": "stdout",
     "output_type": "stream",
     "text": [
      "[1, 2, 3, 4, 5, 1, 1, 1, 1, 1]\n",
      "[ 2.  3.  4.  5.  6.]\n",
      "[ 2.  2.  2.  2.  2.]\n",
      "[  4.  10.  18.  28.  40.]\n"
     ]
    }
   ],
   "source": [
    "# listas tipo excel\n",
    "a = [1,2,3,4,5]\n",
    "b = [1,1,1,1,1]\n",
    "\n",
    "print (a+b)\n",
    "\n",
    "x = np.array([1,2,3,4,5],float)\n",
    "d = np.array([1,1,1,1,1],float)\n",
    "\n",
    "print (x+d)\n",
    "print (2*d)\n",
    "\n",
    "y = x**2 + 3*x\n",
    "\n",
    "print (y)"
   ]
  },
  {
   "cell_type": "code",
   "execution_count": 3,
   "metadata": {
    "collapsed": false
   },
   "outputs": [
    {
     "name": "stdout",
     "output_type": "stream",
     "text": [
      "[2, 4, 8]\n"
     ]
    }
   ],
   "source": [
    "# loop test\n",
    "n = 3\n",
    "x = 2\n",
    "\n",
    "m = [x**(i+1) for i in range (n)]\n",
    "\n",
    "print (m)"
   ]
  },
  {
   "cell_type": "code",
   "execution_count": 4,
   "metadata": {
    "collapsed": false
   },
   "outputs": [
    {
     "name": "stdout",
     "output_type": "stream",
     "text": [
      "[ 100.    0.    0.    0.    0.   50.]\n",
      "100\n",
      "50.0\n",
      "0.0\n",
      "0.0\n",
      "25.0\n",
      "50\n",
      "[100, 50.0, 0.0, 0.0, 25.0, 50]\n"
     ]
    }
   ],
   "source": [
    "# atempt conditional\n",
    "l = 6\n",
    "t = 15\n",
    "\n",
    "B = np.array([0]*l,float)\n",
    "\n",
    "B[0] = 100\n",
    "B[l-1] = 50\n",
    "\n",
    "print (B)\n",
    "\n",
    "\n",
    "N = []\n",
    "for i in range (l):\n",
    "    if i == 0:\n",
    "        M = 100\n",
    "    if 0 < i < l-1:\n",
    "        M = (B[i-1]+B[i+1])*0.5\n",
    "    if i == l-1:\n",
    "        M = 50\n",
    "    N.append(M)\n",
    "    print (M)\n",
    "\n",
    "B = N\n",
    "print (B)"
   ]
  },
  {
   "cell_type": "code",
   "execution_count": 5,
   "metadata": {
    "collapsed": false
   },
   "outputs": [
    {
     "name": "stdout",
     "output_type": "stream",
     "text": [
      "[[0 0 0]\n",
      " [0 0 0]]\n",
      "[[ 0.  0.  0.]\n",
      " [ 0.  0.  0.]]\n",
      "[[ 1.  1.  1.]\n",
      " [ 1.  1.  1.]]\n"
     ]
    }
   ],
   "source": [
    "# auto_matrix\n",
    "\n",
    "N = 3\n",
    "M = 2\n",
    "\n",
    "T = np.array([[0]*N]*M) # matriz de zeros\n",
    "print (T)\n",
    "\n",
    "#______________________________________________#\n",
    "\n",
    "shape = [M,N]\n",
    "\n",
    "Z = np.zeros(shape) # matriz de zeros\n",
    "print (Z)\n",
    "\n",
    "Z1 = np.ones(shape) # matriz de um's \n",
    "print (Z1)"
   ]
  },
  {
   "cell_type": "code",
   "execution_count": 6,
   "metadata": {
    "collapsed": false
   },
   "outputs": [
    {
     "name": "stdout",
     "output_type": "stream",
     "text": [
      "[[100   0   0   0   0  50]\n",
      " [100   0   0   0   0  50]\n",
      " [100   0   0   0   0  50]\n",
      " [100   0   0   0   0  50]\n",
      " [100   0   0   0   0  50]]\n",
      "100\n",
      "0\n",
      "0\n",
      "0\n",
      "0\n",
      "50\n",
      "100\n",
      "0\n",
      "0\n",
      "0\n",
      "0\n",
      "50\n",
      "100\n",
      "0\n",
      "0\n",
      "0\n",
      "0\n",
      "50\n",
      "100\n",
      "0\n",
      "0\n",
      "0\n",
      "0\n",
      "50\n",
      "100\n",
      "0\n",
      "0\n",
      "0\n",
      "0\n",
      "50\n",
      "[101, 1, 1, 1, 1, 51, 101, 1, 1, 1, 1, 51, 101, 1, 1, 1, 1, 51, 101, 1, 1, 1, 1, 51, 101, 1, 1, 1, 1, 51]\n",
      "[[101   1   1   1   1  51]\n",
      " [101   1   1   1   1  51]\n",
      " [101   1   1   1   1  51]\n",
      " [101   1   1   1   1  51]\n",
      " [101   1   1   1   1  51]]\n"
     ]
    }
   ],
   "source": [
    "# Double_loop\n",
    "\n",
    "p = 6\n",
    "l = 5\n",
    "T1 = 100\n",
    "T2 = 0\n",
    "T3 = 50\n",
    "\n",
    "M1 = [T1]\n",
    "M3 = [T3]\n",
    "M2 = [T2]*(p-2)\n",
    "\n",
    "M = M1 + M2 + M3\n",
    "\n",
    "N = np.array([M]*5)\n",
    "\n",
    "print (N)\n",
    "\n",
    "H=[]\n",
    "for i in range (l):\n",
    "    for j in range (p):\n",
    "\n",
    "        print (N[i,j])\n",
    "        G = N[i,j]+1\n",
    "        H.append(G)\n",
    "        \n",
    "        \n",
    "print (H)\n",
    "H = np.array(H)\n",
    "H = H.reshape(l,p)\n",
    "print (H)"
   ]
  },
  {
   "cell_type": "code",
   "execution_count": 7,
   "metadata": {
    "collapsed": false
   },
   "outputs": [
    {
     "name": "stdout",
     "output_type": "stream",
     "text": [
      "coloque a ordem do polinomio aqui 3\n",
      "A [1, 2, 3]\n",
      "\n",
      "M [[10.0, 55.0, 385.0], [55.0, 385.0, 3025.0], [385.0, 3025.0, 25333.0]]\n",
      "\n",
      "N [2046.0, 18434.0, 169978.0]\n",
      "\n",
      "N2 = N, mas de outra maneira [2046.0, 18434.0, 169978.0]\n",
      "p [ 234.86666667 -167.45757576   23.13636364]\n",
      "\n"
     ]
    },
    {
     "data": {
      "image/png": "[encoded data removed]",
      "text/plain": [
       "<matplotlib.figure.Figure at 0xaccff7ec>"
      ]
     },
     "metadata": {},
     "output_type": "display_data"
    }
   ],
   "source": [
    "# auto_matrix_polinom_fit\n",
    "\n",
    "mm = eval(input('coloque a ordem do polinomio aqui '))\n",
    "\n",
    "#x = input('coloque o valor de x ')\n",
    "#y = input('coloque o valor de y ')\n",
    "\n",
    "x = np.linspace(1,10,10) # x\n",
    "y = 2**x\n",
    "\n",
    "\n",
    "m = mm+1 #eval\n",
    "\n",
    "A = list(range(1,m))\n",
    "print('A',A)\n",
    "print()\n",
    "\n",
    "M = [[np.sum(x**(i+j)) for i in range (mm)] for j in range (mm)]\n",
    "print ('M',M)\n",
    "print()\n",
    "\n",
    "N = [np.sum(y*(x**(i))) for i in range (mm)]\n",
    "print ('N',N)\n",
    "print()\n",
    "\n",
    "N2 = []\n",
    "for i in range(mm):\n",
    "    N2.append(np.sum(y*(x**(i))))\n",
    "print('N2 = N, mas de outra maneira',N2)\n",
    "\n",
    "\n",
    "MI = np.linalg.inv(M)\n",
    "\n",
    "p = (np.dot(MI,N))\n",
    "print ('p',p)\n",
    "print()\n",
    "\n",
    "X = [(x**i) for i in range (mm)]\n",
    "\n",
    "XP = np.array([X[i]*p[i] for i in range (mm)])\n",
    "\n",
    "Y = XP.sum(axis=0)\n",
    "\n",
    "     \n",
    "plt.plot(x,y,'r-')\n",
    "plt.plot(x,Y,'b-')\n",
    "plt.show()"
   ]
  },
  {
   "cell_type": "code",
   "execution_count": 8,
   "metadata": {
    "collapsed": false
   },
   "outputs": [
    {
     "name": "stdout",
     "output_type": "stream",
     "text": [
      "[[0, 0, 0], [0, 0, 0], [0, 0, 0], [0, 0, 0], [0, 0, 0]]\n"
     ]
    }
   ],
   "source": [
    "# Auto_zero_matrix\n",
    "\n",
    "i = 3\n",
    "j = 5\n",
    "M = [[0]*i]*j\n",
    "print (M)\n",
    "\n",
    "t1 = 100\n",
    "t3 = 50\n",
    "t2 = 0\n",
    "\n",
    "M1 = [t1]"
   ]
  },
  {
   "cell_type": "code",
   "execution_count": 9,
   "metadata": {
    "collapsed": false
   },
   "outputs": [
    {
     "name": "stdout",
     "output_type": "stream",
     "text": [
      "0\n",
      "1\n",
      "1\n",
      "2\n",
      "3\n",
      "4\n",
      "4\n",
      "5\n",
      "6\n",
      "6\n"
     ]
    }
   ],
   "source": [
    "# Circle_test\n",
    "\n",
    "for t in range (10):\n",
    "    n = t/(2**0.5)\n",
    "    i = int (round (n))\n",
    "    j = int (round (n))\n",
    "    print (i)"
   ]
  },
  {
   "cell_type": "code",
   "execution_count": 10,
   "metadata": {
    "collapsed": false
   },
   "outputs": [
    {
     "name": "stdout",
     "output_type": "stream",
     "text": [
      "[  1.21     2.64     2.52     3.9      4.       6.       6.9      7.29\n",
      "  11.04    11.6725   1.98     3.99     6.615    8.17    10.78    11.1     14.\n",
      "  16.2     20.24    18.18     3.41     6.08     9.45    12.71    14.535\n",
      "  16.82    19.32    24.      27.      30.87     4.62     7.8     12.1275\n",
      "  16.6     21.32    22.33    26.22    30.42    34.2     42.       4.59\n",
      "   9.8     14.88    19.5     24.      30.9     36.92    39.77    42.72    49.\n",
      "  12.      19.065   23.56    29.5     35.38    46.41    54.29    58.8      7.2\n",
      "  15.265   21.76    28.29    33.6     41.3     49.7     57.2     65.32\n",
      "  66.64     8.      17.82    25.265   32.785   37.83    46.02    66.42\n",
      "  73.71    78.4   ]\n",
      "[1, 1, 1, 1, 1, 1, 1, 1, 1, 1, 1, 1, 1, 1, 1, 1, 1, 1, 1, 1, 1, 1, 1, 1, 1, 1, 1, 1, 1, 1, 1, 1, 1, 1, 1, 1, 1, 1, 1, 1, 1, 1, 1, 1, 1, 1, 1, 1, 1, 1, 1, 1, 1, 1, 1, 1, 1, 1, 1, 1, 1, 1, 1, 1, 1, 1, 1, 1, 1, 1, 1, 1, 1, 1, 1, 1, 1]\n"
     ]
    }
   ],
   "source": [
    "data = np.genfromtxt('relevo.txt',delimiter='\t')\n",
    "#print data\n",
    "\n",
    "x=data[:,0]\n",
    "y=data[:,1]\n",
    "sigy=data[:,2]\n",
    "\n",
    "#print x\n",
    "#print y\n",
    "#print sigy\n",
    "\n",
    "\n",
    "x2 = x**2\n",
    "x3 = x**3\n",
    "x4 = x**4\n",
    "x5 = x**5\n",
    "x6 = x**6\n",
    "x7 = x**7\n",
    "x8 = x**8\n",
    "\n",
    "xy = x*y\n",
    "x2y = x2*y\n",
    "x3y = x3*y\n",
    "\n",
    "print (xy)\n",
    "\n",
    "#fazer uma lista com o número 1 aparecendo 77 vezes:\n",
    "um = [1]*77\n",
    "print (um)"
   ]
  },
  {
   "cell_type": "code",
   "execution_count": 11,
   "metadata": {
    "collapsed": false
   },
   "outputs": [
    {
     "name": "stdout",
     "output_type": "stream",
     "text": [
      "[[ 6000.  6000.  6000.]\n",
      " [ 6000.  6000.  6000.]]\n"
     ]
    }
   ],
   "source": [
    "#fat_test\n",
    "\n",
    "velocity = np.zeros(shape)+6000.\n",
    "velocity[100:,100:] = 0.\n",
    "\n",
    "print (velocity)"
   ]
  },
  {
   "cell_type": "code",
   "execution_count": 12,
   "metadata": {
    "collapsed": false
   },
   "outputs": [
    {
     "name": "stdout",
     "output_type": "stream",
     "text": [
      "[[ 1.  1.  1.  1.  1.  1.]\n",
      " [ 1.  3.  1.  4.  1.  1.]\n",
      " [ 1.  1.  1.  1.  1.  1.]\n",
      " [ 1.  1.  3.  1.  2.  1.]\n",
      " [ 1.  1.  1.  1.  1.  1.]]\n",
      "[[ 1.    1.    1.    1.    1.    1.  ]\n",
      " [ 1.    1.    2.25  1.    1.75  1.  ]\n",
      " [ 1.    1.5   1.5   1.75  1.25  1.  ]\n",
      " [ 1.    1.5   1.    1.75  1.    1.  ]\n",
      " [ 1.    1.    1.    1.    1.    1.  ]]\n"
     ]
    }
   ],
   "source": [
    "#force_final\n",
    "\n",
    "p = 6\n",
    "l = 5\n",
    "\n",
    "M = [[1]*p]*l\n",
    "M = np.array(M, float)\n",
    "M2 = np.array(M, float)\n",
    "\n",
    "M[3,2] = 3\n",
    "M[1,3] = 4\n",
    "M[3,4] = 2\n",
    "M[1,1] = 3\n",
    "\n",
    "print (M)\n",
    "\n",
    "# i = 012345012345012345012345...\n",
    "# j = 000001111122222333334444...\n",
    "\n",
    "for j in range (1,p-1):\n",
    "    for i in range(1,l-1):\n",
    "\n",
    "        M2[i,j] = (M[i-1,j]+M[i+1,j]+M[i,j-1]+M[i,j+1])*0.25\n",
    "\n",
    "print (M2)"
   ]
  },
  {
   "cell_type": "code",
   "execution_count": 13,
   "metadata": {
    "collapsed": false
   },
   "outputs": [
    {
     "name": "stdout",
     "output_type": "stream",
     "text": [
      "[-14.10141995  -0.93159646   0.           0.93159646  14.10141995]\n",
      "[-14.101401  -0.931596   0.         0.931596  14.101401]\n"
     ]
    },
    {
     "data": {
      "image/png": "[encoded data removed]",
      "text/plain": [
       "<matplotlib.figure.Figure at 0xae58280c>"
      ]
     },
     "metadata": {},
     "output_type": "display_data"
    }
   ],
   "source": [
    "# Lagrange test\n",
    "x = np.array([-1.5,-0.75,0,0.75,1.5],float)\n",
    "y = np.array(np.tan(x))\n",
    "z = 4.834848*(x**3) - 1.477474*x\n",
    "\n",
    "print (y)\n",
    "print (z)\n",
    "\n",
    "plt.plot(x,y,'-b')\n",
    "plt.plot(x,z,'-r')\n",
    "\n",
    "plt.show()"
   ]
  },
  {
   "cell_type": "code",
   "execution_count": 15,
   "metadata": {
    "collapsed": false
   },
   "outputs": [
    {
     "name": "stdout",
     "output_type": "stream",
     "text": [
      "[[ 100.         0.         0.         0.         0.        50.     ]\n",
      " [ 100.        98.4375    22.65625   12.5       49.21875   50.     ]\n",
      " [ 100.       117.1875    25.78125   14.0625    58.59375   50.     ]\n",
      " [ 100.        98.4375    22.65625   12.5       49.21875   50.     ]\n",
      " [ 100.         0.         0.         0.         0.        50.     ]]\n",
      "[array([[ 100. ,    0. ,    0. ,    0. ,    0. ,   50. ],\n",
      "       [ 100. ,   25. ,    0. ,    0. ,   12.5,   50. ],\n",
      "       [ 100. ,   25. ,    0. ,    0. ,   12.5,   50. ],\n",
      "       [ 100. ,   25. ,    0. ,    0. ,   12.5,   50. ],\n",
      "       [ 100. ,    0. ,    0. ,    0. ,    0. ,   50. ]]), array([[ 100.   ,    0.   ,    0.   ,    0.   ,    0.   ,   50.   ],\n",
      "       [ 100.   ,   56.25 ,    6.25 ,    3.125,   28.125,   50.   ],\n",
      "       [ 100.   ,   62.5  ,    6.25 ,    3.125,   31.25 ,   50.   ],\n",
      "       [ 100.   ,   56.25 ,    6.25 ,    3.125,   28.125,   50.   ],\n",
      "       [ 100.   ,    0.   ,    0.   ,    0.   ,    0.   ,   50.   ]]), array([[ 100.     ,    0.     ,    0.     ,    0.     ,    0.     ,   50.     ],\n",
      "       [ 100.     ,   98.4375 ,   22.65625,   12.5    ,   49.21875,   50.     ],\n",
      "       [ 100.     ,  117.1875 ,   25.78125,   14.0625 ,   58.59375,   50.     ],\n",
      "       [ 100.     ,   98.4375 ,   22.65625,   12.5    ,   49.21875,   50.     ],\n",
      "       [ 100.     ,    0.     ,    0.     ,    0.     ,    0.     ,   50.     ]])]\n"
     ]
    }
   ],
   "source": [
    "#Double contour test (placa de calor)\n",
    "h = 5\n",
    "t = 3\n",
    "\n",
    "d = 6 #espessura das secoes da barra\n",
    "k = 0.49/(2.7*0.2174)\n",
    "\n",
    "la = (k*t)/(d+h) #lambda\n",
    "shape = (h,d)\n",
    "\n",
    "M = np.zeros(shape)\n",
    "\n",
    "M[:,0] = 100\n",
    "M[:,d-1] = 50\n",
    "\n",
    "\n",
    "N = np.zeros(shape)\n",
    "\n",
    "\n",
    "T = []\n",
    "for k in range (t):\n",
    "    for i in range (1,h-1):\n",
    "        for j in range (1,d-1):\n",
    "            N[i,j] = (M[i-1,j]+M[i,j-1]+M[i+1,j]+M[i,j+1])*0.25\n",
    "    M = M+N\n",
    "    \n",
    "    T.append(M)\n",
    "print (M)\n",
    "print (T)"
   ]
  },
  {
   "cell_type": "code",
   "execution_count": 17,
   "metadata": {
    "collapsed": false
   },
   "outputs": [
    {
     "name": "stdout",
     "output_type": "stream",
     "text": [
      "[[100   0   0   0   0  50]\n",
      " [100   0   0   0   0  50]\n",
      " [100   0   0   0   0  50]\n",
      " [100   0   0   0   0  50]\n",
      " [100   0   0   0   0  50]]\n",
      "100\n",
      "0\n",
      "0\n",
      "0\n",
      "0\n",
      "50\n",
      "100\n",
      "0\n",
      "0\n",
      "0\n",
      "0\n",
      "50\n",
      "100\n",
      "0\n",
      "0\n",
      "0\n",
      "0\n",
      "50\n",
      "100\n",
      "0\n",
      "0\n",
      "0\n",
      "0\n",
      "50\n",
      "100\n",
      "0\n",
      "0\n",
      "0\n",
      "0\n",
      "50\n",
      "[101, 1, 1, 1, 1, 51, 101, 1, 1, 1, 1, 51, 101, 1, 1, 1, 1, 51, 101, 1, 1, 1, 1, 51, 101, 1, 1, 1, 1, 51]\n",
      "[[101   1   1   1   1  51]\n",
      " [101   1   1   1   1  51]\n",
      " [101   1   1   1   1  51]\n",
      " [101   1   1   1   1  51]\n",
      " [101   1   1   1   1  51]]\n"
     ]
    }
   ],
   "source": [
    "# Placa \n",
    "p = 6\n",
    "l = 5\n",
    "\n",
    "M1 = [100]\n",
    "M3 = [50]\n",
    "M2 = [0]*(p-2)\n",
    "\n",
    "M = M1 + M2 + M3\n",
    "\n",
    "N = np.array([M]*5)\n",
    "\n",
    "print (N)\n",
    "\n",
    "H=[]\n",
    "for i in range (l):\n",
    "    for j in range (p):\n",
    "\n",
    "        print (N[i,j])\n",
    "        G = N[i,j]+1\n",
    "        H.append(G)\n",
    "        \n",
    "        \n",
    "print (H)\n",
    "H = np.array(H)\n",
    "H = H.reshape(l,p)\n",
    "print (H)\n"
   ]
  },
  {
   "cell_type": "code",
   "execution_count": 18,
   "metadata": {
    "collapsed": false
   },
   "outputs": [
    {
     "name": "stdout",
     "output_type": "stream",
     "text": [
      "[1, 100]\n",
      "100\n",
      "5\n",
      "[array([1, 1, 1, 1, 1], dtype=int32), array([1, 2, 3, 4, 5], dtype=int32)]\n",
      "[1, 100]\n",
      "[[5, 15, 55], [15, 55, 225], [55, 225, 979], [225, 979, 4425], [979, 4425, 20515]]\n"
     ]
    }
   ],
   "source": [
    "# Polinom Create\n",
    "m =2\n",
    "\n",
    "x = np.array([1,2,3,4,5])\n",
    "\n",
    "a = [1,100]\n",
    "print (a)\n",
    "print (a[1])\n",
    "\n",
    "d = len(x)\n",
    "\n",
    "print (d)\n",
    "\n",
    "y0 = [x**i for i in range (m)]\n",
    "print (y0)\n",
    "y1 = [a[j] for j in range (len(a))]\n",
    "print (y1)\n",
    "\n",
    "M = [[np.sum(x**(i+j)) for i in range (3)] for j in range (5)]\n",
    "print (M)"
   ]
  },
  {
   "cell_type": "code",
   "execution_count": null,
   "metadata": {
    "collapsed": true
   },
   "outputs": [],
   "source": []
  }
 ],
 "metadata": {
  "anaconda-cloud": {},
  "kernelspec": {
   "display_name": "Python [conda root]",
   "language": "python",
   "name": "conda-root-py"
  },
  "language_info": {
   "codemirror_mode": {
    "name": "ipython",
    "version": 3
   },
   "file_extension": ".py",
   "mimetype": "text/x-python",
   "name": "python",
   "nbconvert_exporter": "python",
   "pygments_lexer": "ipython3",
   "version": "3.5.2"
  }
 },
 "nbformat": 4,
 "nbformat_minor": 1
}
