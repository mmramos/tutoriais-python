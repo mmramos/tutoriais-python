{
 "cells": [
  {
   "cell_type": "markdown",
   "metadata": {},
   "source": [
    "<img src=\"https://d37djvu3ytnwxt.cloudfront.net/static/edx.org/images/logo.790c9a5340cb.png\">\n",
    "<font>MITx: 6.00.1x Introduction to Computer Science and Programming Using Python</font>\n",
    "<br><big><big>Knowledge"
   ]
  },
  {
   "cell_type": "code",
   "execution_count": 32,
   "metadata": {
    "collapsed": true
   },
   "outputs": [],
   "source": [
    "def raiz(x,xx,n):\n",
    "    r = x\n",
    "    for i in range (n):\n",
    "        g = r\n",
    "        gg = g*g\n",
    "        gx = xx/g\n",
    "        r = (g+gx)/2.000\n",
    "        print(\"resposta = \",r)\n",
    "    return r"
   ]
  },
  {
   "cell_type": "code",
   "execution_count": 35,
   "metadata": {
    "collapsed": false
   },
   "outputs": [
    {
     "name": "stdout",
     "output_type": "stream",
     "text": [
      "resposta =  15.75\n",
      "resposta =  9.748015873015873\n",
      "resposta =  7.900264806037756\n",
      "resposta =  7.684184453711496\n",
      "resposta =  7.681146348695752\n",
      "resposta =  7.681145747868632\n",
      "resposta =  7.681145747868609\n",
      "resposta =  7.681145747868609\n",
      "resposta =  7.681145747868609\n",
      "resposta =  7.681145747868609\n"
     ]
    },
    {
     "data": {
      "text/plain": [
       "7.681145747868609"
      ]
     },
     "execution_count": 35,
     "metadata": {},
     "output_type": "execute_result"
    }
   ],
   "source": [
    "raiz(2,59,10)"
   ]
  },
  {
   "cell_type": "code",
   "execution_count": null,
   "metadata": {
    "collapsed": true
   },
   "outputs": [],
   "source": []
  }
 ],
 "metadata": {
  "kernelspec": {
   "display_name": "Python 3",
   "language": "python",
   "name": "python3"
  },
  "language_info": {
   "codemirror_mode": {
    "name": "ipython",
    "version": 3
   },
   "file_extension": ".py",
   "mimetype": "text/x-python",
   "name": "python",
   "nbconvert_exporter": "python",
   "pygments_lexer": "ipython3",
   "version": "3.6.0"
  }
 },
 "nbformat": 4,
 "nbformat_minor": 2
}
